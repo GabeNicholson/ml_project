{
 "cells": [
  {
   "cell_type": "markdown",
   "metadata": {},
   "source": [
    "# Machine Learning Final Project\n",
    "Group Member: Yutai Li, Gabriel Nicholson"
   ]
  },
  {
   "cell_type": "markdown",
   "metadata": {},
   "source": [
    "## PCA for shift detection"
   ]
  },
  {
   "cell_type": "code",
   "execution_count": 3,
   "metadata": {},
   "outputs": [],
   "source": [
    "import numpy as np\n",
    "import numpy.linalg as la\n",
    "import pandas as pd\n",
    "from scipy.io.arff import loadarff \n",
    "from sklearn.decomposition import PCA\n",
    "import scipy"
   ]
  },
  {
   "cell_type": "markdown",
   "metadata": {},
   "source": [
    "### Dataset"
   ]
  },
  {
   "cell_type": "markdown",
   "metadata": {},
   "source": [
    "Source: https://www.openml.org/search?type=data&sort=runs&id=151&status=active\n",
    "    \n",
    "Electricity is a widely used dataset described by M. Harries and analyzed by J. Gama. This data was collected from the Australian New South Wales Electricity Market. In this market, prices are not fixed and are affected by demand and supply of the market. They are set every five minutes. Electricity transfers to/from the neighboring state of Victoria were done to alleviate fluctuations.\n",
    "\n",
    "The dataset contains 45,312 instances dated from 7 May 1996 to 5 December 1998. Each example of the dataset refers to a period of 30 minutes, i.e. there are 48 instances for each time period of one day. Each example on the dataset has 5 fields, the day of week, the time stamp, the New South Wales electricity demand, the Victoria electricity demand, the scheduled electricity transfer between states and the class label. The class label identifies the change of the price (UP or DOWN) in New South Wales relative to a moving average of the last 24 hours (and removes the impact of longer term price trends)."
   ]
  },
  {
   "cell_type": "markdown",
   "metadata": {},
   "source": [
    "#### Features:\n",
    "**Date**: date between 7 May 1996 to 5 December 1998. Here normalized between 0 and 1\n",
    "\n",
    "**Day**: day of the week (1-7)\n",
    "\n",
    "**Period**: time of the measurement (1-48) in half hour intervals over 24 hours. Here normalized between 0 and 1\n",
    "\n",
    "**NSWprice**: New South Wales electricity price, normalized between 0 and 1\n",
    "\n",
    "**NSWdemand**: New South Wales electricity demand, normalized between 0 and 1\n",
    "\n",
    "**VICprice**: Victoria electricity price, normalized between 0 and 1\n",
    "\n",
    "**VICdemand**: Victoria electricity demand, normalized between 0 and 1\n",
    "\n",
    "**transfer**: scheduled electricity transfer between both states, normalized between 0 and 1\n",
    "\n",
    "#### Target Variable:\n",
    "\n",
    "**class**:  the change of the price (UP or DOWN) in New South Wales relative to a moving average of the last 24 hours"
   ]
  },
  {
   "cell_type": "code",
   "execution_count": 103,
   "metadata": {},
   "outputs": [],
   "source": [
    "raw_data = loadarff('electricity-normalized.arff')\n",
    "df = pd.DataFrame(raw_data[0])\n",
    "df['target'] = np.where(df['class'] == b'UP', 1, 0)\n",
    "df = pd.get_dummies(df.drop(columns='class'))"
   ]
  },
  {
   "cell_type": "code",
   "execution_count": 119,
   "metadata": {},
   "outputs": [
    {
     "data": {
      "text/html": [
       "<div>\n",
       "<style scoped>\n",
       "    .dataframe tbody tr th:only-of-type {\n",
       "        vertical-align: middle;\n",
       "    }\n",
       "\n",
       "    .dataframe tbody tr th {\n",
       "        vertical-align: top;\n",
       "    }\n",
       "\n",
       "    .dataframe thead th {\n",
       "        text-align: right;\n",
       "    }\n",
       "</style>\n",
       "<table border=\"1\" class=\"dataframe\">\n",
       "  <thead>\n",
       "    <tr style=\"text-align: right;\">\n",
       "      <th></th>\n",
       "      <th>date</th>\n",
       "      <th>period</th>\n",
       "      <th>nswprice</th>\n",
       "      <th>nswdemand</th>\n",
       "      <th>vicprice</th>\n",
       "      <th>vicdemand</th>\n",
       "      <th>transfer</th>\n",
       "      <th>target</th>\n",
       "      <th>day_b'1'</th>\n",
       "      <th>day_b'2'</th>\n",
       "      <th>day_b'3'</th>\n",
       "      <th>day_b'4'</th>\n",
       "      <th>day_b'5'</th>\n",
       "      <th>day_b'6'</th>\n",
       "      <th>day_b'7'</th>\n",
       "    </tr>\n",
       "  </thead>\n",
       "  <tbody>\n",
       "    <tr>\n",
       "      <th>10000</th>\n",
       "      <td>0.030707</td>\n",
       "      <td>0.340426</td>\n",
       "      <td>0.089828</td>\n",
       "      <td>0.298572</td>\n",
       "      <td>0.003467</td>\n",
       "      <td>0.422915</td>\n",
       "      <td>0.414912</td>\n",
       "      <td>1</td>\n",
       "      <td>0</td>\n",
       "      <td>0</td>\n",
       "      <td>0</td>\n",
       "      <td>0</td>\n",
       "      <td>0</td>\n",
       "      <td>0</td>\n",
       "      <td>1</td>\n",
       "    </tr>\n",
       "    <tr>\n",
       "      <th>10001</th>\n",
       "      <td>0.030707</td>\n",
       "      <td>0.361702</td>\n",
       "      <td>0.089828</td>\n",
       "      <td>0.319101</td>\n",
       "      <td>0.003467</td>\n",
       "      <td>0.422915</td>\n",
       "      <td>0.414912</td>\n",
       "      <td>1</td>\n",
       "      <td>0</td>\n",
       "      <td>0</td>\n",
       "      <td>0</td>\n",
       "      <td>0</td>\n",
       "      <td>0</td>\n",
       "      <td>0</td>\n",
       "      <td>1</td>\n",
       "    </tr>\n",
       "    <tr>\n",
       "      <th>10002</th>\n",
       "      <td>0.030707</td>\n",
       "      <td>0.382979</td>\n",
       "      <td>0.089828</td>\n",
       "      <td>0.322672</td>\n",
       "      <td>0.003467</td>\n",
       "      <td>0.422915</td>\n",
       "      <td>0.414912</td>\n",
       "      <td>1</td>\n",
       "      <td>0</td>\n",
       "      <td>0</td>\n",
       "      <td>0</td>\n",
       "      <td>0</td>\n",
       "      <td>0</td>\n",
       "      <td>0</td>\n",
       "      <td>1</td>\n",
       "    </tr>\n",
       "    <tr>\n",
       "      <th>10003</th>\n",
       "      <td>0.030707</td>\n",
       "      <td>0.404255</td>\n",
       "      <td>0.083794</td>\n",
       "      <td>0.320589</td>\n",
       "      <td>0.003467</td>\n",
       "      <td>0.422915</td>\n",
       "      <td>0.414912</td>\n",
       "      <td>1</td>\n",
       "      <td>0</td>\n",
       "      <td>0</td>\n",
       "      <td>0</td>\n",
       "      <td>0</td>\n",
       "      <td>0</td>\n",
       "      <td>0</td>\n",
       "      <td>1</td>\n",
       "    </tr>\n",
       "    <tr>\n",
       "      <th>10004</th>\n",
       "      <td>0.030707</td>\n",
       "      <td>0.425532</td>\n",
       "      <td>0.089828</td>\n",
       "      <td>0.310176</td>\n",
       "      <td>0.003467</td>\n",
       "      <td>0.422915</td>\n",
       "      <td>0.414912</td>\n",
       "      <td>1</td>\n",
       "      <td>0</td>\n",
       "      <td>0</td>\n",
       "      <td>0</td>\n",
       "      <td>0</td>\n",
       "      <td>0</td>\n",
       "      <td>0</td>\n",
       "      <td>1</td>\n",
       "    </tr>\n",
       "    <tr>\n",
       "      <th>...</th>\n",
       "      <td>...</td>\n",
       "      <td>...</td>\n",
       "      <td>...</td>\n",
       "      <td>...</td>\n",
       "      <td>...</td>\n",
       "      <td>...</td>\n",
       "      <td>...</td>\n",
       "      <td>...</td>\n",
       "      <td>...</td>\n",
       "      <td>...</td>\n",
       "      <td>...</td>\n",
       "      <td>...</td>\n",
       "      <td>...</td>\n",
       "      <td>...</td>\n",
       "      <td>...</td>\n",
       "    </tr>\n",
       "    <tr>\n",
       "      <th>19995</th>\n",
       "      <td>0.447724</td>\n",
       "      <td>0.574468</td>\n",
       "      <td>0.047796</td>\n",
       "      <td>0.623475</td>\n",
       "      <td>0.003851</td>\n",
       "      <td>0.646815</td>\n",
       "      <td>0.256140</td>\n",
       "      <td>0</td>\n",
       "      <td>0</td>\n",
       "      <td>0</td>\n",
       "      <td>0</td>\n",
       "      <td>0</td>\n",
       "      <td>1</td>\n",
       "      <td>0</td>\n",
       "      <td>0</td>\n",
       "    </tr>\n",
       "    <tr>\n",
       "      <th>19996</th>\n",
       "      <td>0.447724</td>\n",
       "      <td>0.595745</td>\n",
       "      <td>0.042152</td>\n",
       "      <td>0.601755</td>\n",
       "      <td>0.003297</td>\n",
       "      <td>0.638011</td>\n",
       "      <td>0.247368</td>\n",
       "      <td>0</td>\n",
       "      <td>0</td>\n",
       "      <td>0</td>\n",
       "      <td>0</td>\n",
       "      <td>0</td>\n",
       "      <td>1</td>\n",
       "      <td>0</td>\n",
       "      <td>0</td>\n",
       "    </tr>\n",
       "    <tr>\n",
       "      <th>19997</th>\n",
       "      <td>0.447724</td>\n",
       "      <td>0.617021</td>\n",
       "      <td>0.043233</td>\n",
       "      <td>0.605623</td>\n",
       "      <td>0.003008</td>\n",
       "      <td>0.617038</td>\n",
       "      <td>0.277193</td>\n",
       "      <td>0</td>\n",
       "      <td>0</td>\n",
       "      <td>0</td>\n",
       "      <td>0</td>\n",
       "      <td>0</td>\n",
       "      <td>1</td>\n",
       "      <td>0</td>\n",
       "      <td>0</td>\n",
       "    </tr>\n",
       "    <tr>\n",
       "      <th>19998</th>\n",
       "      <td>0.447724</td>\n",
       "      <td>0.638298</td>\n",
       "      <td>0.042272</td>\n",
       "      <td>0.608747</td>\n",
       "      <td>0.002933</td>\n",
       "      <td>0.592698</td>\n",
       "      <td>0.353070</td>\n",
       "      <td>0</td>\n",
       "      <td>0</td>\n",
       "      <td>0</td>\n",
       "      <td>0</td>\n",
       "      <td>0</td>\n",
       "      <td>1</td>\n",
       "      <td>0</td>\n",
       "      <td>0</td>\n",
       "    </tr>\n",
       "    <tr>\n",
       "      <th>19999</th>\n",
       "      <td>0.447724</td>\n",
       "      <td>0.659574</td>\n",
       "      <td>0.055362</td>\n",
       "      <td>0.640137</td>\n",
       "      <td>0.003828</td>\n",
       "      <td>0.573278</td>\n",
       "      <td>0.385965</td>\n",
       "      <td>1</td>\n",
       "      <td>0</td>\n",
       "      <td>0</td>\n",
       "      <td>0</td>\n",
       "      <td>0</td>\n",
       "      <td>1</td>\n",
       "      <td>0</td>\n",
       "      <td>0</td>\n",
       "    </tr>\n",
       "  </tbody>\n",
       "</table>\n",
       "<p>10000 rows × 15 columns</p>\n",
       "</div>"
      ],
      "text/plain": [
       "           date    period  nswprice  nswdemand  vicprice  vicdemand  transfer  \\\n",
       "10000  0.030707  0.340426  0.089828   0.298572  0.003467   0.422915  0.414912   \n",
       "10001  0.030707  0.361702  0.089828   0.319101  0.003467   0.422915  0.414912   \n",
       "10002  0.030707  0.382979  0.089828   0.322672  0.003467   0.422915  0.414912   \n",
       "10003  0.030707  0.404255  0.083794   0.320589  0.003467   0.422915  0.414912   \n",
       "10004  0.030707  0.425532  0.089828   0.310176  0.003467   0.422915  0.414912   \n",
       "...         ...       ...       ...        ...       ...        ...       ...   \n",
       "19995  0.447724  0.574468  0.047796   0.623475  0.003851   0.646815  0.256140   \n",
       "19996  0.447724  0.595745  0.042152   0.601755  0.003297   0.638011  0.247368   \n",
       "19997  0.447724  0.617021  0.043233   0.605623  0.003008   0.617038  0.277193   \n",
       "19998  0.447724  0.638298  0.042272   0.608747  0.002933   0.592698  0.353070   \n",
       "19999  0.447724  0.659574  0.055362   0.640137  0.003828   0.573278  0.385965   \n",
       "\n",
       "       target  day_b'1'  day_b'2'  day_b'3'  day_b'4'  day_b'5'  day_b'6'  \\\n",
       "10000       1         0         0         0         0         0         0   \n",
       "10001       1         0         0         0         0         0         0   \n",
       "10002       1         0         0         0         0         0         0   \n",
       "10003       1         0         0         0         0         0         0   \n",
       "10004       1         0         0         0         0         0         0   \n",
       "...       ...       ...       ...       ...       ...       ...       ...   \n",
       "19995       0         0         0         0         0         1         0   \n",
       "19996       0         0         0         0         0         1         0   \n",
       "19997       0         0         0         0         0         1         0   \n",
       "19998       0         0         0         0         0         1         0   \n",
       "19999       1         0         0         0         0         1         0   \n",
       "\n",
       "       day_b'7'  \n",
       "10000         1  \n",
       "10001         1  \n",
       "10002         1  \n",
       "10003         1  \n",
       "10004         1  \n",
       "...         ...  \n",
       "19995         0  \n",
       "19996         0  \n",
       "19997         0  \n",
       "19998         0  \n",
       "19999         0  \n",
       "\n",
       "[10000 rows x 15 columns]"
      ]
     },
     "execution_count": 119,
     "metadata": {},
     "output_type": "execute_result"
    }
   ],
   "source": [
    "df[10000:20000]"
   ]
  },
  {
   "cell_type": "code",
   "execution_count": 9,
   "metadata": {},
   "outputs": [
    {
     "name": "stdout",
     "output_type": "stream",
     "text": [
      "<class 'pandas.core.frame.DataFrame'>\n",
      "RangeIndex: 45312 entries, 0 to 45311\n",
      "Data columns (total 15 columns):\n",
      " #   Column     Non-Null Count  Dtype  \n",
      "---  ------     --------------  -----  \n",
      " 0   date       45312 non-null  float64\n",
      " 1   period     45312 non-null  float64\n",
      " 2   nswprice   45312 non-null  float64\n",
      " 3   nswdemand  45312 non-null  float64\n",
      " 4   vicprice   45312 non-null  float64\n",
      " 5   vicdemand  45312 non-null  float64\n",
      " 6   transfer   45312 non-null  float64\n",
      " 7   target     45312 non-null  int64  \n",
      " 8   day_b'1'   45312 non-null  uint8  \n",
      " 9   day_b'2'   45312 non-null  uint8  \n",
      " 10  day_b'3'   45312 non-null  uint8  \n",
      " 11  day_b'4'   45312 non-null  uint8  \n",
      " 12  day_b'5'   45312 non-null  uint8  \n",
      " 13  day_b'6'   45312 non-null  uint8  \n",
      " 14  day_b'7'   45312 non-null  uint8  \n",
      "dtypes: float64(7), int64(1), uint8(7)\n",
      "memory usage: 3.1 MB\n"
     ]
    }
   ],
   "source": [
    "df.info()"
   ]
  },
  {
   "cell_type": "code",
   "execution_count": 227,
   "metadata": {},
   "outputs": [
    {
     "name": "stdout",
     "output_type": "stream",
     "text": [
      "190.37229263333418\n",
      "97.65797924750096\n",
      "77.65509729067612\n"
     ]
    }
   ],
   "source": [
    "first = df.query('date < 0.45')\n",
    "second = df.query('date > 0.98')\n",
    "v1 = np.sqrt(np.sum((scipy.linalg.svdvals(first) - scipy.linalg.svdvals(second))**2))\n",
    "U, S, VT = la.svd(first)\n",
    "U_s, S_s, VT_s = la.svd(second)\n",
    "print(v1)\n",
    "\n",
    "first = df.query('date < 0.45')\n",
    "second = df.query('date > 0.90')\n",
    "v2 = np.sqrt(np.sum((scipy.linalg.svdvals(first) - scipy.linalg.svdvals(second))**2))\n",
    "print(v2)\n",
    "\n",
    "first = df.query('date < 0.60')\n",
    "second = df.query('date > 0.60 and date < 0.90')\n",
    "U, S, VT = la.svd(first)\n",
    "U_s, S_s, VT_s = la.svd(second)\n",
    "v3 = np.sqrt(np.sum((scipy.linalg.svdvals(first) - scipy.linalg.svdvals(second))**2))\n",
    "print(v3)\n",
    "\n",
    "first = df.query('date < 0.45')\n",
    "second = df.query('date > 0.90')"
   ]
  },
  {
   "cell_type": "code",
   "execution_count": 228,
   "metadata": {},
   "outputs": [
    {
     "data": {
      "text/plain": [
       "array([-0.24, -0.46, -0.05, -0.37, -0.  , -0.35, -0.38, -0.46, -0.12,\n",
       "       -0.12, -0.12, -0.12, -0.12, -0.12, -0.11])"
      ]
     },
     "execution_count": 228,
     "metadata": {},
     "output_type": "execute_result"
    }
   ],
   "source": [
    "np.round(VT[0], 2)"
   ]
  },
  {
   "cell_type": "code",
   "execution_count": 229,
   "metadata": {},
   "outputs": [
    {
     "data": {
      "text/plain": [
       "array([-0.59, -0.36, -0.04, -0.32, -0.  , -0.31, -0.4 , -0.33, -0.09,\n",
       "       -0.09, -0.1 , -0.1 , -0.1 , -0.1 , -0.1 ])"
      ]
     },
     "execution_count": 229,
     "metadata": {},
     "output_type": "execute_result"
    }
   ],
   "source": [
    "np.round(VT_s[0], 2)"
   ]
  },
  {
   "cell_type": "code",
   "execution_count": 230,
   "metadata": {},
   "outputs": [
    {
     "name": "stdout",
     "output_type": "stream",
     "text": [
      "0.9196151271197981\n",
      "0.924274411102636\n",
      "-0.832632420087531\n",
      "0.014504586130451452\n"
     ]
    }
   ],
   "source": [
    "print(np.dot(VT_s[0], VT[0]))\n",
    "print(np.dot(VT_s[1], VT[1]))\n",
    "print(np.dot(VT_s[2], VT[2]))\n",
    "print(np.dot(VT_s[3], VT[3]))"
   ]
  },
  {
   "cell_type": "code",
   "execution_count": 231,
   "metadata": {},
   "outputs": [
    {
     "name": "stdout",
     "output_type": "stream",
     "text": [
      "0.9196151271197981\n",
      "0.924274411102636\n",
      "-0.832632420087531\n",
      "0.014504586130451452\n"
     ]
    }
   ],
   "source": [
    "print(np.dot(VT_s[0], VT[0]))\n",
    "print(np.dot(VT_s[1], VT[1]))\n",
    "print(np.dot(VT_s[2], VT[2]))\n",
    "print(np.dot(VT_s[3], VT[3]))"
   ]
  },
  {
   "cell_type": "code",
   "execution_count": 189,
   "metadata": {},
   "outputs": [],
   "source": [
    "X = first.drop(columns=['target', 'date'])\n",
    "y = first['target']\n",
    "weights = la.inv(X.T @ X) @ X.T @ y"
   ]
  },
  {
   "cell_type": "code",
   "execution_count": 190,
   "metadata": {},
   "outputs": [],
   "source": [
    "test_X = second.drop(columns=['target', 'date'])\n",
    "test_y = second['target']"
   ]
  },
  {
   "cell_type": "code",
   "execution_count": 191,
   "metadata": {},
   "outputs": [],
   "source": [
    "weights.index = X.columns"
   ]
  },
  {
   "cell_type": "code",
   "execution_count": 192,
   "metadata": {},
   "outputs": [
    {
     "data": {
      "text/html": [
       "<div>\n",
       "<style scoped>\n",
       "    .dataframe tbody tr th:only-of-type {\n",
       "        vertical-align: middle;\n",
       "    }\n",
       "\n",
       "    .dataframe tbody tr th {\n",
       "        vertical-align: top;\n",
       "    }\n",
       "\n",
       "    .dataframe thead th {\n",
       "        text-align: right;\n",
       "    }\n",
       "</style>\n",
       "<table border=\"1\" class=\"dataframe\">\n",
       "  <thead>\n",
       "    <tr style=\"text-align: right;\">\n",
       "      <th></th>\n",
       "      <th>first</th>\n",
       "      <th>second</th>\n",
       "    </tr>\n",
       "  </thead>\n",
       "  <tbody>\n",
       "    <tr>\n",
       "      <th>date</th>\n",
       "      <td>0.01</td>\n",
       "      <td>-0.05</td>\n",
       "    </tr>\n",
       "    <tr>\n",
       "      <th>period</th>\n",
       "      <td>0.17</td>\n",
       "      <td>0.11</td>\n",
       "    </tr>\n",
       "    <tr>\n",
       "      <th>nswprice</th>\n",
       "      <td>0.58</td>\n",
       "      <td>0.54</td>\n",
       "    </tr>\n",
       "    <tr>\n",
       "      <th>nswdemand</th>\n",
       "      <td>0.34</td>\n",
       "      <td>0.41</td>\n",
       "    </tr>\n",
       "    <tr>\n",
       "      <th>vicprice</th>\n",
       "      <td>0.21</td>\n",
       "      <td>0.15</td>\n",
       "    </tr>\n",
       "    <tr>\n",
       "      <th>vicdemand</th>\n",
       "      <td>0.15</td>\n",
       "      <td>0.38</td>\n",
       "    </tr>\n",
       "    <tr>\n",
       "      <th>transfer</th>\n",
       "      <td>-0.09</td>\n",
       "      <td>-0.17</td>\n",
       "    </tr>\n",
       "    <tr>\n",
       "      <th>target</th>\n",
       "      <td>1.00</td>\n",
       "      <td>1.00</td>\n",
       "    </tr>\n",
       "    <tr>\n",
       "      <th>day_b'1'</th>\n",
       "      <td>0.07</td>\n",
       "      <td>0.01</td>\n",
       "    </tr>\n",
       "    <tr>\n",
       "      <th>day_b'2'</th>\n",
       "      <td>-0.01</td>\n",
       "      <td>0.14</td>\n",
       "    </tr>\n",
       "    <tr>\n",
       "      <th>day_b'3'</th>\n",
       "      <td>-0.02</td>\n",
       "      <td>0.00</td>\n",
       "    </tr>\n",
       "    <tr>\n",
       "      <th>day_b'4'</th>\n",
       "      <td>-0.01</td>\n",
       "      <td>-0.04</td>\n",
       "    </tr>\n",
       "    <tr>\n",
       "      <th>day_b'5'</th>\n",
       "      <td>-0.02</td>\n",
       "      <td>-0.01</td>\n",
       "    </tr>\n",
       "    <tr>\n",
       "      <th>day_b'6'</th>\n",
       "      <td>-0.01</td>\n",
       "      <td>-0.02</td>\n",
       "    </tr>\n",
       "    <tr>\n",
       "      <th>day_b'7'</th>\n",
       "      <td>-0.01</td>\n",
       "      <td>-0.08</td>\n",
       "    </tr>\n",
       "  </tbody>\n",
       "</table>\n",
       "</div>"
      ],
      "text/plain": [
       "           first  second\n",
       "date        0.01   -0.05\n",
       "period      0.17    0.11\n",
       "nswprice    0.58    0.54\n",
       "nswdemand   0.34    0.41\n",
       "vicprice    0.21    0.15\n",
       "vicdemand   0.15    0.38\n",
       "transfer   -0.09   -0.17\n",
       "target      1.00    1.00\n",
       "day_b'1'    0.07    0.01\n",
       "day_b'2'   -0.01    0.14\n",
       "day_b'3'   -0.02    0.00\n",
       "day_b'4'   -0.01   -0.04\n",
       "day_b'5'   -0.02   -0.01\n",
       "day_b'6'   -0.01   -0.02\n",
       "day_b'7'   -0.01   -0.08"
      ]
     },
     "execution_count": 192,
     "metadata": {},
     "output_type": "execute_result"
    }
   ],
   "source": [
    "corr_compare = pd.DataFrame({'first':first.corr().round(2)['target'], 'second':second.corr().round(2)['target']})\n",
    "corr_compare"
   ]
  },
  {
   "cell_type": "code",
   "execution_count": 193,
   "metadata": {},
   "outputs": [],
   "source": [
    "weights.loc['vicdemand'] *= 1.23\n",
    "# weights.loc[\"day_b'2'\"] *= 1.23\n",
    "pred_y = test_X.values @ weights"
   ]
  },
  {
   "cell_type": "code",
   "execution_count": 194,
   "metadata": {},
   "outputs": [
    {
     "name": "stdout",
     "output_type": "stream",
     "text": [
      "train error: 0.8180423594615994\n",
      "test error: 0.8333333333333334\n"
     ]
    }
   ],
   "source": [
    "print(f\"train error: {np.mean(np.where(X.values @ weights < 0.5, 0, 1) == y)}\")\n",
    "print(f\"test error: {np.mean(np.where(pred_y < 0.5, 0, 1) == test_y)}\")"
   ]
  },
  {
   "cell_type": "markdown",
   "metadata": {},
   "source": [
    "### Using resampling approaches at the data drift point \n",
    "\n",
    "1. The case where we are doing the data analysis in real time. Retrain the model with more weight on the most recent data?\n",
    "2. The case where we have SOME of the test values but not all of them. Once again we can train on these with higher weights on these samples. \n",
    "3. Use the PCA and K-Means approach?\n",
    "\n",
    "\n",
    "**How does Sklearn implement their sample weighting?**\n",
    "\n",
    "- I think one approach is to make a new loss function where it is disjoint? \n",
    "- Another approach for this project is making probabilities more uncertain for drifted data and comparing the log-loss of this function compared to the regular one. The theory predicts that higher uncertainity should lead to a better loss. "
   ]
  },
  {
   "cell_type": "markdown",
   "metadata": {},
   "source": [
    "### Applying PCA"
   ]
  },
  {
   "cell_type": "code",
   "execution_count": 14,
   "metadata": {},
   "outputs": [],
   "source": [
    "pca_99 = PCA(.999)"
   ]
  },
  {
   "cell_type": "code",
   "execution_count": 15,
   "metadata": {},
   "outputs": [],
   "source": [
    "before = df.query('date <= 0.8')\n",
    "after = df.query('date > 0.8')\n",
    "X_before = before.drop(columns=['target', 'date'])\n",
    "y_before = before['target']"
   ]
  },
  {
   "cell_type": "code",
   "execution_count": 26,
   "metadata": {},
   "outputs": [],
   "source": [
    "X_after = after.drop(columns=['target', 'date'])\n",
    "y_after = after['target']"
   ]
  },
  {
   "cell_type": "code",
   "execution_count": 30,
   "metadata": {},
   "outputs": [
    {
     "data": {
      "text/plain": [
       "(16272, 13)"
      ]
     },
     "execution_count": 30,
     "metadata": {},
     "output_type": "execute_result"
    }
   ],
   "source": [
    "X_after.shape"
   ]
  },
  {
   "cell_type": "code",
   "execution_count": 29,
   "metadata": {},
   "outputs": [
    {
     "data": {
      "text/plain": [
       "(29040, 13)"
      ]
     },
     "execution_count": 29,
     "metadata": {},
     "output_type": "execute_result"
    }
   ],
   "source": [
    "X_before.shape"
   ]
  },
  {
   "cell_type": "code",
   "execution_count": 19,
   "metadata": {},
   "outputs": [
    {
     "data": {
      "text/html": [
       "<div>\n",
       "<style scoped>\n",
       "    .dataframe tbody tr th:only-of-type {\n",
       "        vertical-align: middle;\n",
       "    }\n",
       "\n",
       "    .dataframe tbody tr th {\n",
       "        vertical-align: top;\n",
       "    }\n",
       "\n",
       "    .dataframe thead th {\n",
       "        text-align: right;\n",
       "    }\n",
       "</style>\n",
       "<table border=\"1\" class=\"dataframe\">\n",
       "  <thead>\n",
       "    <tr style=\"text-align: right;\">\n",
       "      <th></th>\n",
       "      <th>0</th>\n",
       "      <th>1</th>\n",
       "      <th>2</th>\n",
       "      <th>3</th>\n",
       "      <th>4</th>\n",
       "      <th>5</th>\n",
       "      <th>6</th>\n",
       "      <th>7</th>\n",
       "      <th>8</th>\n",
       "      <th>9</th>\n",
       "      <th>10</th>\n",
       "    </tr>\n",
       "  </thead>\n",
       "  <tbody>\n",
       "    <tr>\n",
       "      <th>0</th>\n",
       "      <td>-0.215637</td>\n",
       "      <td>-0.112728</td>\n",
       "      <td>0.843011</td>\n",
       "      <td>-0.175446</td>\n",
       "      <td>-0.198261</td>\n",
       "      <td>0.000120</td>\n",
       "      <td>0.497076</td>\n",
       "      <td>0.137403</td>\n",
       "      <td>0.021949</td>\n",
       "      <td>-0.035649</td>\n",
       "      <td>-0.009262</td>\n",
       "    </tr>\n",
       "    <tr>\n",
       "      <th>1</th>\n",
       "      <td>-0.213058</td>\n",
       "      <td>-0.112749</td>\n",
       "      <td>0.842914</td>\n",
       "      <td>-0.174970</td>\n",
       "      <td>-0.198776</td>\n",
       "      <td>0.000115</td>\n",
       "      <td>0.483539</td>\n",
       "      <td>0.114010</td>\n",
       "      <td>0.006473</td>\n",
       "      <td>-0.027446</td>\n",
       "      <td>-0.012641</td>\n",
       "    </tr>\n",
       "    <tr>\n",
       "      <th>2</th>\n",
       "      <td>-0.209559</td>\n",
       "      <td>-0.112775</td>\n",
       "      <td>0.842779</td>\n",
       "      <td>-0.174378</td>\n",
       "      <td>-0.199465</td>\n",
       "      <td>0.000116</td>\n",
       "      <td>0.471557</td>\n",
       "      <td>0.086779</td>\n",
       "      <td>-0.012509</td>\n",
       "      <td>-0.017687</td>\n",
       "      <td>-0.011237</td>\n",
       "    </tr>\n",
       "    <tr>\n",
       "      <th>3</th>\n",
       "      <td>-0.199392</td>\n",
       "      <td>-0.112843</td>\n",
       "      <td>0.842408</td>\n",
       "      <td>-0.172894</td>\n",
       "      <td>-0.201359</td>\n",
       "      <td>0.000112</td>\n",
       "      <td>0.470731</td>\n",
       "      <td>0.030446</td>\n",
       "      <td>-0.053419</td>\n",
       "      <td>0.004178</td>\n",
       "      <td>-0.013452</td>\n",
       "    </tr>\n",
       "    <tr>\n",
       "      <th>4</th>\n",
       "      <td>-0.190381</td>\n",
       "      <td>-0.112904</td>\n",
       "      <td>0.842076</td>\n",
       "      <td>-0.171567</td>\n",
       "      <td>-0.203048</td>\n",
       "      <td>0.000111</td>\n",
       "      <td>0.467977</td>\n",
       "      <td>-0.020776</td>\n",
       "      <td>-0.090707</td>\n",
       "      <td>0.023902</td>\n",
       "      <td>-0.013062</td>\n",
       "    </tr>\n",
       "  </tbody>\n",
       "</table>\n",
       "</div>"
      ],
      "text/plain": [
       "         0         1         2         3         4         5         6   \\\n",
       "0 -0.215637 -0.112728  0.843011 -0.175446 -0.198261  0.000120  0.497076   \n",
       "1 -0.213058 -0.112749  0.842914 -0.174970 -0.198776  0.000115  0.483539   \n",
       "2 -0.209559 -0.112775  0.842779 -0.174378 -0.199465  0.000116  0.471557   \n",
       "3 -0.199392 -0.112843  0.842408 -0.172894 -0.201359  0.000112  0.470731   \n",
       "4 -0.190381 -0.112904  0.842076 -0.171567 -0.203048  0.000111  0.467977   \n",
       "\n",
       "         7         8         9         10  \n",
       "0  0.137403  0.021949 -0.035649 -0.009262  \n",
       "1  0.114010  0.006473 -0.027446 -0.012641  \n",
       "2  0.086779 -0.012509 -0.017687 -0.011237  \n",
       "3  0.030446 -0.053419  0.004178 -0.013452  \n",
       "4 -0.020776 -0.090707  0.023902 -0.013062  "
      ]
     },
     "execution_count": 19,
     "metadata": {},
     "output_type": "execute_result"
    }
   ],
   "source": [
    "components = pca_99.fit_transform(X_before)\n",
    "componentsDf = pd.DataFrame(data = components)\n",
    "componentsDf.head()"
   ]
  },
  {
   "cell_type": "code",
   "execution_count": 21,
   "metadata": {},
   "outputs": [
    {
     "data": {
      "text/plain": [
       "(29040, 11)"
      ]
     },
     "execution_count": 21,
     "metadata": {},
     "output_type": "execute_result"
    }
   ],
   "source": [
    "components.shape"
   ]
  },
  {
   "cell_type": "code",
   "execution_count": 23,
   "metadata": {},
   "outputs": [
    {
     "data": {
      "text/plain": [
       "(11, 11)"
      ]
     },
     "execution_count": 23,
     "metadata": {},
     "output_type": "execute_result"
    }
   ],
   "source": [
    "np.dot(components.T, components).shape"
   ]
  },
  {
   "cell_type": "code",
   "execution_count": 32,
   "metadata": {},
   "outputs": [
    {
     "data": {
      "text/plain": [
       "array([65.35800436, 64.62223551, 64.62115867, 64.41751411, 64.32711042,\n",
       "       64.24957089, 52.07666441, 24.69744594, 19.68248427,  9.80618966,\n",
       "        5.4611653 ])"
      ]
     },
     "execution_count": 32,
     "metadata": {},
     "output_type": "execute_result"
    }
   ],
   "source": [
    "pca_99.singular_values_"
   ]
  },
  {
   "cell_type": "code",
   "execution_count": 35,
   "metadata": {},
   "outputs": [],
   "source": [
    "V = pca_99.components_"
   ]
  },
  {
   "cell_type": "markdown",
   "metadata": {},
   "source": [
    "Now we have the principal comopnets of `X_before`, then we want to project `X_after` to the principal componets of `X_before` to get a projection matrix of `X_after`"
   ]
  },
  {
   "cell_type": "code",
   "execution_count": 45,
   "metadata": {},
   "outputs": [
    {
     "data": {
      "text/plain": [
       "(16272, 13)"
      ]
     },
     "execution_count": 45,
     "metadata": {},
     "output_type": "execute_result"
    }
   ],
   "source": [
    "X_projection = X_after@V.T@V\n",
    "X_projection.shape"
   ]
  },
  {
   "cell_type": "markdown",
   "metadata": {},
   "source": [
    "Then, we want to compare the statistical distribution of each of the features in `X_before` with the one in `X_projection` by using *KL-divergence* to see if the distribution of each feature changes. If the change-score pass a certain threshold, then it is likely that the distribution of the training data is different from that in the test data. "
   ]
  },
  {
   "cell_type": "markdown",
   "metadata": {},
   "source": [
    "The definition of *KL-divergence* for continus variable is as follow $$D_{KL}(P \\parallel Q) = \\int_{-\\infty}^{\\infty} p(x)\\log(\\frac{p(x)}{q(x)}) dx\\$$"
   ]
  },
  {
   "cell_type": "code",
   "execution_count": 41,
   "metadata": {},
   "outputs": [],
   "source": [
    "from scipy.stats import norm"
   ]
  },
  {
   "cell_type": "code",
   "execution_count": 47,
   "metadata": {},
   "outputs": [
    {
     "data": {
      "text/plain": [
       "29040   -4.449208e-07\n",
       "29041    2.127652e-02\n",
       "29042    4.255247e-02\n",
       "29043    6.382946e-02\n",
       "29044    8.510550e-02\n",
       "             ...     \n",
       "45307    9.148936e-01\n",
       "45308    9.361696e-01\n",
       "45309    9.574466e-01\n",
       "45310    9.787226e-01\n",
       "45311    9.999996e-01\n",
       "Name: 0, Length: 16272, dtype: float64"
      ]
     },
     "execution_count": 47,
     "metadata": {},
     "output_type": "execute_result"
    }
   ],
   "source": [
    "X_projection[:][0]"
   ]
  },
  {
   "cell_type": "code",
   "execution_count": 51,
   "metadata": {},
   "outputs": [
    {
     "data": {
      "text/plain": [
       "array([1.00059464, 1.00032815, 0.99966111, ..., 0.63290425, 0.62077441,\n",
       "       0.60728361])"
      ]
     },
     "execution_count": 51,
     "metadata": {},
     "output_type": "execute_result"
    }
   ],
   "source": [
    "norm.pdf(X_projection[:][0])/norm.pdf(X_projection[:][1])"
   ]
  },
  {
   "cell_type": "code",
   "execution_count": 65,
   "metadata": {},
   "outputs": [],
   "source": [
    "def kl_divergence(p, q):\n",
    "    return np.sum(np.where(p != 0, p.dot(np.log(p / q)), 0))"
   ]
  },
  {
   "cell_type": "code",
   "execution_count": 66,
   "metadata": {},
   "outputs": [],
   "source": [
    "def get_change_score(f_before, f_after):\n",
    "    p = norm.pdf(f_before)\n",
    "    q = norm.pdf(f_after)\n",
    "    change_score = kl_divergence(p,q)\n",
    "    \n",
    "    return change_score"
   ]
  },
  {
   "cell_type": "code",
   "execution_count": 59,
   "metadata": {},
   "outputs": [],
   "source": [
    "X_array = X_before.to_numpy()"
   ]
  },
  {
   "cell_type": "code",
   "execution_count": 71,
   "metadata": {},
   "outputs": [
    {
     "data": {
      "text/plain": [
       "(13,)"
      ]
     },
     "execution_count": 71,
     "metadata": {},
     "output_type": "execute_result"
    }
   ],
   "source": [
    "norm.pdf(X_array[:][0]).shape"
   ]
  },
  {
   "cell_type": "code",
   "execution_count": 76,
   "metadata": {},
   "outputs": [
    {
     "data": {
      "text/plain": [
       "(29040,)"
      ]
     },
     "execution_count": 76,
     "metadata": {},
     "output_type": "execute_result"
    }
   ],
   "source": [
    "X_array[:,0].shape"
   ]
  },
  {
   "cell_type": "code",
   "execution_count": 72,
   "metadata": {},
   "outputs": [
    {
     "data": {
      "text/plain": [
       "(16272, 13)"
      ]
     },
     "execution_count": 72,
     "metadata": {},
     "output_type": "execute_result"
    }
   ],
   "source": [
    "X_array.shape\n",
    "X_projection.shape"
   ]
  },
  {
   "cell_type": "code",
   "execution_count": 227,
   "metadata": {},
   "outputs": [
    {
     "data": {
      "text/plain": [
       "51096.43748490194"
      ]
     },
     "execution_count": 227,
     "metadata": {},
     "output_type": "execute_result"
    }
   ],
   "source": [
    "get_change_score(X_projection[:][1], X_array[:16272,1])"
   ]
  },
  {
   "cell_type": "code",
   "execution_count": 100,
   "metadata": {},
   "outputs": [
    {
     "data": {
      "text/plain": [
       "<matplotlib.collections.PathCollection at 0x7fba2382efa0>"
      ]
     },
     "execution_count": 100,
     "metadata": {},
     "output_type": "execute_result"
    },
    {
     "data": {
      "image/png": "[encoded data removed]",
      "text/plain": [
       "<Figure size 432x288 with 1 Axes>"
      ]
     },
     "metadata": {
      "needs_background": "light"
     },
     "output_type": "display_data"
    }
   ],
   "source": [
    "import matplotlib.pyplot as plt\n",
    "plt.scatter(X_array[:16272,1], norm.pdf(X_array[:16272,1]))\n",
    "plt.scatter(X_projection[:][1], norm.pdf(X_projection[:][1]))"
   ]
  },
  {
   "cell_type": "code",
   "execution_count": 97,
   "metadata": {},
   "outputs": [
    {
     "data": {
      "text/plain": [
       "array([0.39870519, 0.39872115, 0.39871638, ..., 0.39857705, 0.39808093,\n",
       "       0.39844781])"
      ]
     },
     "execution_count": 97,
     "metadata": {},
     "output_type": "execute_result"
    }
   ],
   "source": [
    "norm.pdf(X_projection[:][1])"
   ]
  },
  {
   "cell_type": "code",
   "execution_count": 125,
   "metadata": {},
   "outputs": [
    {
     "data": {
      "image/png": "[encoded data removed]",
      "text/plain": [
       "<Figure size 432x288 with 1 Axes>"
      ]
     },
     "metadata": {
      "needs_background": "light"
     },
     "output_type": "display_data"
    }
   ],
   "source": [
    "fig, ax = plt.subplots(1, 1)\n",
    "ax.plot(df['date'].to_numpy())\n",
    "plt.show()"
   ]
  },
  {
   "cell_type": "code",
   "execution_count": 124,
   "metadata": {},
   "outputs": [
    {
     "data": {
      "text/plain": [
       "[<matplotlib.lines.Line2D at 0x7fba23be7d30>]"
      ]
     },
     "execution_count": 124,
     "metadata": {},
     "output_type": "execute_result"
    },
    {
     "data": {
      "image/png": "[encoded data removed]",
      "text/plain": [
       "<Figure size 432x288 with 1 Axes>"
      ]
     },
     "metadata": {
      "needs_background": "light"
     },
     "output_type": "display_data"
    }
   ],
   "source": [
    "fig, ax = plt.subplots(1, 1)\n",
    "ax.plot(df['nswprice'].to_numpy())"
   ]
  },
  {
   "cell_type": "code",
   "execution_count": 148,
   "metadata": {},
   "outputs": [
    {
     "data": {
      "text/plain": [
       "['date',\n",
       " 'period',\n",
       " 'nswprice',\n",
       " 'nswdemand',\n",
       " 'vicprice',\n",
       " 'vicdemand',\n",
       " 'transfer',\n",
       " 'target',\n",
       " \"day_b'1'\",\n",
       " \"day_b'2'\",\n",
       " \"day_b'3'\",\n",
       " \"day_b'4'\",\n",
       " \"day_b'5'\",\n",
       " \"day_b'6'\",\n",
       " \"day_b'7'\"]"
      ]
     },
     "execution_count": 148,
     "metadata": {},
     "output_type": "execute_result"
    }
   ],
   "source": [
    "col_list = df.columns.tolist()\n",
    "col_list"
   ]
  },
  {
   "cell_type": "code",
   "execution_count": 153,
   "metadata": {},
   "outputs": [],
   "source": [
    "col_list.remove('period')"
   ]
  },
  {
   "cell_type": "code",
   "execution_count": 157,
   "metadata": {},
   "outputs": [
    {
     "data": {
      "image/png": "[encoded data removed]",
      "text/plain": [
       "<Figure size 864x576 with 6 Axes>"
      ]
     },
     "metadata": {
      "needs_background": "light"
     },
     "output_type": "display_data"
    }
   ],
   "source": [
    "# variable distribution (without 'period' and 'day(1-7)')\n",
    "fig, axes = plt.subplots(2,3,sharex='all', figsize = (12,8))\n",
    "for index, column in enumerate(col_list[:6]):\n",
    "    row = index // 3\n",
    "    col = index % 3\n",
    "    axes[row,col].plot(df[column])\n",
    "    axes[row,col].set_title(column)"
   ]
  },
  {
   "cell_type": "code",
   "execution_count": 161,
   "metadata": {},
   "outputs": [
    {
     "data": {
      "text/plain": [
       "(45312,)"
      ]
     },
     "execution_count": 161,
     "metadata": {},
     "output_type": "execute_result"
    }
   ],
   "source": [
    "date_array = df['date'].to_numpy()\n",
    "date_array.shape"
   ]
  },
  {
   "cell_type": "code",
   "execution_count": 164,
   "metadata": {},
   "outputs": [
    {
     "data": {
      "text/plain": [
       "(4512,)"
      ]
     },
     "execution_count": 164,
     "metadata": {},
     "output_type": "execute_result"
    }
   ],
   "source": [
    "date_array[date_array<np.nanquantile(date_array, 0.1)].shape"
   ]
  },
  {
   "cell_type": "code",
   "execution_count": 319,
   "metadata": {},
   "outputs": [],
   "source": [
    "def setWindow(quantile):\n",
    "    step = np.arange(0,1,quantile)\n",
    "    print(step)\n",
    "    score_list = []\n",
    "    for i in step:\n",
    "        lower_bond = np.round(i,3)\n",
    "        mid_bond = np.round(i+quantile,3)\n",
    "        upper_bond = np.round(i+2*quantile,3)\n",
    "        if upper_bond <= 1:\n",
    "            print(lower_bond,mid_bond,upper_bond )\n",
    "            score = detect_shift(lower_bond, mid_bond, upper_bond)\n",
    "            score_list.append(score)\n",
    "    \n",
    "    return np.array(score_list)"
   ]
  },
  {
   "cell_type": "code",
   "execution_count": 320,
   "metadata": {},
   "outputs": [
    {
     "name": "stdout",
     "output_type": "stream",
     "text": [
      "[0.  0.1 0.2 0.3 0.4 0.5 0.6 0.7 0.8 0.9]\n",
      "0.0 0.1 0.2\n",
      "0.1 0.2 0.3\n",
      "0.2 0.3 0.4\n",
      "0.3 0.4 0.5\n",
      "0.4 0.5 0.6\n",
      "0.5 0.6 0.7\n",
      "0.6 0.7 0.8\n",
      "0.7 0.8 0.9\n",
      "0.8 0.9 1.0\n"
     ]
    }
   ],
   "source": [
    "score_list = setWindow(0.1)"
   ]
  },
  {
   "cell_type": "code",
   "execution_count": 321,
   "metadata": {},
   "outputs": [
    {
     "data": {
      "text/plain": [
       "array([-1.10608833e+00,  4.26437072e+02, -3.36398106e+03, -2.80307208e+02,\n",
       "       -1.98438415e+05, -1.34047976e+05])"
      ]
     },
     "execution_count": 321,
     "metadata": {},
     "output_type": "execute_result"
    }
   ],
   "source": [
    "np.average(score_list, axis=0)"
   ]
  },
  {
   "cell_type": "code",
   "execution_count": 312,
   "metadata": {},
   "outputs": [],
   "source": [
    "drop_list = ['target','date',\"day_b'1'\",\n",
    " \"day_b'2'\",\n",
    " \"day_b'3'\",\n",
    " \"day_b'4'\",\n",
    " \"day_b'5'\",\n",
    " \"day_b'6'\",\n",
    " \"day_b'7'\"]"
   ]
  },
  {
   "cell_type": "code",
   "execution_count": 318,
   "metadata": {},
   "outputs": [],
   "source": [
    "def detect_shift(lower_bond, mid_bond, upper_bond):\n",
    "    date_array = df['date'].to_numpy()\n",
    "    before = df[(df['date']>np.nanquantile(date_array, lower_bond)) & (df['date']<= np.nanquantile(date_array, mid_bond))]\n",
    "    after = df[(df['date']>np.nanquantile(date_array, mid_bond)) & (df['date']<= np.nanquantile(date_array, upper_bond))]\n",
    "    \n",
    "    if len(before) != len(after):\n",
    "        min_len = min(len(before), len(after))\n",
    "        before = before[:min_len]\n",
    "        after = after[:min_len]\n",
    "    \n",
    "    X_before = before.drop(columns = drop_list)\n",
    "    X_after = after.drop(columns = drop_list)\n",
    "    \n",
    "    pca_99 = PCA(.999)\n",
    "    components = pca_99.fit_transform(X_before)\n",
    "    V = pca_99.components_\n",
    "    \n",
    "    X_projection = X_after@V.T@V\n",
    "#     print(X_before.shape)\n",
    "    \n",
    "    (nrow, ncol) = X_projection.shape\n",
    "    col_list = X_before.columns.tolist()\n",
    "    rv = []\n",
    "    for index, col in enumerate(col_list):\n",
    "        score = get_change_score(X_before.iloc[:,index].to_numpy(),X_projection.iloc[:,index].to_numpy())\n",
    "        rv.append(score)\n",
    "#         print(get_change_score(X_before.iloc[:,index].to_numpy(),X_projection.iloc[:,index].to_numpy()))\n",
    "        \n",
    "    return rv    \n",
    "#     return X_before, X_projection\n",
    "#     print(X_before[:,0].shape)\n",
    "#     print(X_projection[:][0].shape)\n",
    "    \n",
    "    "
   ]
  },
  {
   "cell_type": "code",
   "execution_count": 220,
   "metadata": {},
   "outputs": [
    {
     "data": {
      "text/plain": [
       "4512"
      ]
     },
     "execution_count": 220,
     "metadata": {},
     "output_type": "execute_result"
    }
   ],
   "source": [
    "len(df[(df['date']>np.nanquantile(date_array, 0.1)) & (df['date']<= np.nanquantile(date_array, 0.2))])"
   ]
  },
  {
   "cell_type": "code",
   "execution_count": 301,
   "metadata": {},
   "outputs": [],
   "source": [
    "x1, x2 = detect_shift(0.1,0.2,0.3)"
   ]
  },
  {
   "cell_type": "code",
   "execution_count": 314,
   "metadata": {},
   "outputs": [
    {
     "data": {
      "text/plain": [
       "[0.0, 4046.6569850106007, -113925.0438274042, 0.0, 0.0, 0.0]"
      ]
     },
     "execution_count": 314,
     "metadata": {},
     "output_type": "execute_result"
    }
   ],
   "source": [
    "# X_before and X_after\n",
    "detect_shift(0.1,0.2,0.3)"
   ]
  },
  {
   "cell_type": "code",
   "execution_count": 304,
   "metadata": {},
   "outputs": [
    {
     "data": {
      "text/plain": [
       "[-845.8774272648354,\n",
       " -17782.96933622662,\n",
       " -103620.28602494666,\n",
       " -48.81163165157234,\n",
       " -664180.4758255256,\n",
       " -641428.0064565031,\n",
       " 112327.07586691069,\n",
       " 169742.3560858207,\n",
       " 169682.70853113878,\n",
       " 169684.57738263608,\n",
       " 138855.95897880234,\n",
       " 112322.28444481964,\n",
       " 112323.49837267637]"
      ]
     },
     "execution_count": 304,
     "metadata": {},
     "output_type": "execute_result"
    }
   ],
   "source": [
    "#X_before and X_projection\n",
    "detect_shift(0.1,0.2,0.3)"
   ]
  },
  {
   "cell_type": "code",
   "execution_count": 257,
   "metadata": {},
   "outputs": [
    {
     "data": {
      "text/plain": [
       "4560    0.000000\n",
       "4561    0.021277\n",
       "4562    0.042553\n",
       "4563    0.063830\n",
       "4564    0.085106\n",
       "          ...   \n",
       "9067    0.914894\n",
       "9068    0.936170\n",
       "9069    0.957447\n",
       "9070    0.978723\n",
       "9071    1.000000\n",
       "Name: period, Length: 4512, dtype: float64"
      ]
     },
     "execution_count": 257,
     "metadata": {},
     "output_type": "execute_result"
    }
   ],
   "source": [
    "x1.iloc[:,0]"
   ]
  },
  {
   "cell_type": "code",
   "execution_count": 294,
   "metadata": {},
   "outputs": [
    {
     "data": {
      "text/plain": [
       "<matplotlib.collections.PathCollection at 0x7fba0a0844f0>"
      ]
     },
     "execution_count": 294,
     "metadata": {},
     "output_type": "execute_result"
    },
    {
     "data": {
      "image/png": "[encoded data removed]",
      "text/plain": [
       "<Figure size 648x432 with 2 Axes>"
      ]
     },
     "metadata": {
      "needs_background": "light"
     },
     "output_type": "display_data"
    }
   ],
   "source": [
    "# PDF on X_before and X_after (without projection on PCA)\n",
    "fig, axes = plt.subplots(1,2, figsize = (9,6))\n",
    "axes[0].scatter(x1.iloc[:,1], norm.pdf(x1.iloc[:,1]))\n",
    "axes[1].scatter(x2.iloc[:,1], norm.pdf(x2.iloc[:,1]))"
   ]
  },
  {
   "cell_type": "code",
   "execution_count": 302,
   "metadata": {},
   "outputs": [
    {
     "data": {
      "text/plain": [
       "<matplotlib.collections.PathCollection at 0x7fba268643a0>"
      ]
     },
     "execution_count": 302,
     "metadata": {},
     "output_type": "execute_result"
    },
    {
     "data": {
      "image/png": "[encoded data removed]",
      "text/plain": [
       "<Figure size 648x432 with 2 Axes>"
      ]
     },
     "metadata": {
      "needs_background": "light"
     },
     "output_type": "display_data"
    }
   ],
   "source": [
    "# PDF on X_before and the projection of X_after on PCs of X_before\n",
    "fig, axes = plt.subplots(1,2, figsize = (9,6))\n",
    "axes[0].scatter(x1.iloc[:,1], norm.pdf(x1.iloc[:,1]))\n",
    "axes[1].scatter(x2.iloc[:,1], norm.pdf(x2.iloc[:,1]))"
   ]
  },
  {
   "cell_type": "code",
   "execution_count": 311,
   "metadata": {},
   "outputs": [
    {
     "data": {
      "text/plain": [
       "229553"
      ]
     },
     "execution_count": 311,
     "metadata": {},
     "output_type": "execute_result"
    }
   ],
   "source": [
    "int(2.29553203e+05)"
   ]
  },
  {
   "cell_type": "code",
   "execution_count": null,
   "metadata": {},
   "outputs": [],
   "source": []
  }
 ],
 "metadata": {
  "kernelspec": {
   "display_name": "Python 3",
   "language": "python",
   "name": "python3"
  },
  "language_info": {
   "codemirror_mode": {
    "name": "ipython",
    "version": 3
   },
   "file_extension": ".py",
   "mimetype": "text/x-python",
   "name": "python",
   "nbconvert_exporter": "python",
   "pygments_lexer": "ipython3",
   "version": "3.8.8"
  },
  "vscode": {
   "interpreter": {
    "hash": "8690373d696fc6b9ca58c0b6b800c7f480b19699746d2dc5c9c0d4031bb8f2b8"
   }
  }
 },
 "nbformat": 4,
 "nbformat_minor": 2
}
