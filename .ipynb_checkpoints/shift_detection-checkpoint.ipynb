{
 "cells": [
  {
   "cell_type": "markdown",
   "metadata": {},
   "source": [
    "# Machine Learning Final Project\n",
    "Group Member: Yutai Li, Gabriel Nicholson"
   ]
  },
  {
   "cell_type": "markdown",
   "metadata": {},
   "source": [
    "## PCA for shift detection"
   ]
  },
  {
   "cell_type": "code",
   "execution_count": 1,
   "metadata": {},
   "outputs": [],
   "source": [
    "import numpy as np\n",
    "import numpy.linalg as la\n",
    "import pandas as pd\n",
    "from scipy.io.arff import loadarff \n",
    "from sklearn.decomposition import PCA\n",
    "import scipy"
   ]
  },
  {
   "cell_type": "markdown",
   "metadata": {},
   "source": [
    "### Dataset"
   ]
  },
  {
   "cell_type": "markdown",
   "metadata": {},
   "source": [
    "Source: https://www.openml.org/search?type=data&sort=runs&id=151&status=active\n",
    "    \n",
    "Electricity is a widely used dataset described by M. Harries and analyzed by J. Gama. This data was collected from the Australian New South Wales Electricity Market. In this market, prices are not fixed and are affected by demand and supply of the market. They are set every five minutes. Electricity transfers to/from the neighboring state of Victoria were done to alleviate fluctuations.\n",
    "\n",
    "The dataset contains 45,312 instances dated from 7 May 1996 to 5 December 1998. Each example of the dataset refers to a period of 30 minutes, i.e. there are 48 instances for each time period of one day. Each example on the dataset has 5 fields, the day of week, the time stamp, the New South Wales electricity demand, the Victoria electricity demand, the scheduled electricity transfer between states and the class label. The class label identifies the change of the price (UP or DOWN) in New South Wales relative to a moving average of the last 24 hours (and removes the impact of longer term price trends)."
   ]
  },
  {
   "cell_type": "markdown",
   "metadata": {},
   "source": [
    "#### Features:\n",
    "**Date**: date between 7 May 1996 to 5 December 1998. Here normalized between 0 and 1\n",
    "\n",
    "**Day**: day of the week (1-7)\n",
    "\n",
    "**Period**: time of the measurement (1-48) in half hour intervals over 24 hours. Here normalized between 0 and 1\n",
    "\n",
    "**NSWprice**: New South Wales electricity price, normalized between 0 and 1\n",
    "\n",
    "**NSWdemand**: New South Wales electricity demand, normalized between 0 and 1\n",
    "\n",
    "**VICprice**: Victoria electricity price, normalized between 0 and 1\n",
    "\n",
    "**VICdemand**: Victoria electricity demand, normalized between 0 and 1\n",
    "\n",
    "**transfer**: scheduled electricity transfer between both states, normalized between 0 and 1\n",
    "\n",
    "#### Target Variable:\n",
    "\n",
    "**class**:  the change of the price (UP or DOWN) in New South Wales relative to a moving average of the last 24 hours"
   ]
  },
  {
   "cell_type": "code",
   "execution_count": 2,
   "metadata": {},
   "outputs": [],
   "source": [
    "raw_data = loadarff('electricity-normalized.arff')\n",
    "df = pd.DataFrame(raw_data[0])\n",
    "df['target'] = np.where(df['class'] == b'UP', 1, 0)\n",
    "df = pd.get_dummies(df.drop(columns='class'))"
   ]
  },
  {
   "cell_type": "code",
   "execution_count": 3,
   "metadata": {},
   "outputs": [
    {
     "data": {
      "text/html": [
       "<div>\n",
       "<style scoped>\n",
       "    .dataframe tbody tr th:only-of-type {\n",
       "        vertical-align: middle;\n",
       "    }\n",
       "\n",
       "    .dataframe tbody tr th {\n",
       "        vertical-align: top;\n",
       "    }\n",
       "\n",
       "    .dataframe thead th {\n",
       "        text-align: right;\n",
       "    }\n",
       "</style>\n",
       "<table border=\"1\" class=\"dataframe\">\n",
       "  <thead>\n",
       "    <tr style=\"text-align: right;\">\n",
       "      <th></th>\n",
       "      <th>date</th>\n",
       "      <th>period</th>\n",
       "      <th>nswprice</th>\n",
       "      <th>nswdemand</th>\n",
       "      <th>vicprice</th>\n",
       "      <th>vicdemand</th>\n",
       "      <th>transfer</th>\n",
       "      <th>target</th>\n",
       "      <th>day_b'1'</th>\n",
       "      <th>day_b'2'</th>\n",
       "      <th>day_b'3'</th>\n",
       "      <th>day_b'4'</th>\n",
       "      <th>day_b'5'</th>\n",
       "      <th>day_b'6'</th>\n",
       "      <th>day_b'7'</th>\n",
       "    </tr>\n",
       "  </thead>\n",
       "  <tbody>\n",
       "    <tr>\n",
       "      <th>10000</th>\n",
       "      <td>0.030707</td>\n",
       "      <td>0.340426</td>\n",
       "      <td>0.089828</td>\n",
       "      <td>0.298572</td>\n",
       "      <td>0.003467</td>\n",
       "      <td>0.422915</td>\n",
       "      <td>0.414912</td>\n",
       "      <td>1</td>\n",
       "      <td>0</td>\n",
       "      <td>0</td>\n",
       "      <td>0</td>\n",
       "      <td>0</td>\n",
       "      <td>0</td>\n",
       "      <td>0</td>\n",
       "      <td>1</td>\n",
       "    </tr>\n",
       "    <tr>\n",
       "      <th>10001</th>\n",
       "      <td>0.030707</td>\n",
       "      <td>0.361702</td>\n",
       "      <td>0.089828</td>\n",
       "      <td>0.319101</td>\n",
       "      <td>0.003467</td>\n",
       "      <td>0.422915</td>\n",
       "      <td>0.414912</td>\n",
       "      <td>1</td>\n",
       "      <td>0</td>\n",
       "      <td>0</td>\n",
       "      <td>0</td>\n",
       "      <td>0</td>\n",
       "      <td>0</td>\n",
       "      <td>0</td>\n",
       "      <td>1</td>\n",
       "    </tr>\n",
       "    <tr>\n",
       "      <th>10002</th>\n",
       "      <td>0.030707</td>\n",
       "      <td>0.382979</td>\n",
       "      <td>0.089828</td>\n",
       "      <td>0.322672</td>\n",
       "      <td>0.003467</td>\n",
       "      <td>0.422915</td>\n",
       "      <td>0.414912</td>\n",
       "      <td>1</td>\n",
       "      <td>0</td>\n",
       "      <td>0</td>\n",
       "      <td>0</td>\n",
       "      <td>0</td>\n",
       "      <td>0</td>\n",
       "      <td>0</td>\n",
       "      <td>1</td>\n",
       "    </tr>\n",
       "    <tr>\n",
       "      <th>10003</th>\n",
       "      <td>0.030707</td>\n",
       "      <td>0.404255</td>\n",
       "      <td>0.083794</td>\n",
       "      <td>0.320589</td>\n",
       "      <td>0.003467</td>\n",
       "      <td>0.422915</td>\n",
       "      <td>0.414912</td>\n",
       "      <td>1</td>\n",
       "      <td>0</td>\n",
       "      <td>0</td>\n",
       "      <td>0</td>\n",
       "      <td>0</td>\n",
       "      <td>0</td>\n",
       "      <td>0</td>\n",
       "      <td>1</td>\n",
       "    </tr>\n",
       "    <tr>\n",
       "      <th>10004</th>\n",
       "      <td>0.030707</td>\n",
       "      <td>0.425532</td>\n",
       "      <td>0.089828</td>\n",
       "      <td>0.310176</td>\n",
       "      <td>0.003467</td>\n",
       "      <td>0.422915</td>\n",
       "      <td>0.414912</td>\n",
       "      <td>1</td>\n",
       "      <td>0</td>\n",
       "      <td>0</td>\n",
       "      <td>0</td>\n",
       "      <td>0</td>\n",
       "      <td>0</td>\n",
       "      <td>0</td>\n",
       "      <td>1</td>\n",
       "    </tr>\n",
       "    <tr>\n",
       "      <th>...</th>\n",
       "      <td>...</td>\n",
       "      <td>...</td>\n",
       "      <td>...</td>\n",
       "      <td>...</td>\n",
       "      <td>...</td>\n",
       "      <td>...</td>\n",
       "      <td>...</td>\n",
       "      <td>...</td>\n",
       "      <td>...</td>\n",
       "      <td>...</td>\n",
       "      <td>...</td>\n",
       "      <td>...</td>\n",
       "      <td>...</td>\n",
       "      <td>...</td>\n",
       "      <td>...</td>\n",
       "    </tr>\n",
       "    <tr>\n",
       "      <th>19995</th>\n",
       "      <td>0.447724</td>\n",
       "      <td>0.574468</td>\n",
       "      <td>0.047796</td>\n",
       "      <td>0.623475</td>\n",
       "      <td>0.003851</td>\n",
       "      <td>0.646815</td>\n",
       "      <td>0.256140</td>\n",
       "      <td>0</td>\n",
       "      <td>0</td>\n",
       "      <td>0</td>\n",
       "      <td>0</td>\n",
       "      <td>0</td>\n",
       "      <td>1</td>\n",
       "      <td>0</td>\n",
       "      <td>0</td>\n",
       "    </tr>\n",
       "    <tr>\n",
       "      <th>19996</th>\n",
       "      <td>0.447724</td>\n",
       "      <td>0.595745</td>\n",
       "      <td>0.042152</td>\n",
       "      <td>0.601755</td>\n",
       "      <td>0.003297</td>\n",
       "      <td>0.638011</td>\n",
       "      <td>0.247368</td>\n",
       "      <td>0</td>\n",
       "      <td>0</td>\n",
       "      <td>0</td>\n",
       "      <td>0</td>\n",
       "      <td>0</td>\n",
       "      <td>1</td>\n",
       "      <td>0</td>\n",
       "      <td>0</td>\n",
       "    </tr>\n",
       "    <tr>\n",
       "      <th>19997</th>\n",
       "      <td>0.447724</td>\n",
       "      <td>0.617021</td>\n",
       "      <td>0.043233</td>\n",
       "      <td>0.605623</td>\n",
       "      <td>0.003008</td>\n",
       "      <td>0.617038</td>\n",
       "      <td>0.277193</td>\n",
       "      <td>0</td>\n",
       "      <td>0</td>\n",
       "      <td>0</td>\n",
       "      <td>0</td>\n",
       "      <td>0</td>\n",
       "      <td>1</td>\n",
       "      <td>0</td>\n",
       "      <td>0</td>\n",
       "    </tr>\n",
       "    <tr>\n",
       "      <th>19998</th>\n",
       "      <td>0.447724</td>\n",
       "      <td>0.638298</td>\n",
       "      <td>0.042272</td>\n",
       "      <td>0.608747</td>\n",
       "      <td>0.002933</td>\n",
       "      <td>0.592698</td>\n",
       "      <td>0.353070</td>\n",
       "      <td>0</td>\n",
       "      <td>0</td>\n",
       "      <td>0</td>\n",
       "      <td>0</td>\n",
       "      <td>0</td>\n",
       "      <td>1</td>\n",
       "      <td>0</td>\n",
       "      <td>0</td>\n",
       "    </tr>\n",
       "    <tr>\n",
       "      <th>19999</th>\n",
       "      <td>0.447724</td>\n",
       "      <td>0.659574</td>\n",
       "      <td>0.055362</td>\n",
       "      <td>0.640137</td>\n",
       "      <td>0.003828</td>\n",
       "      <td>0.573278</td>\n",
       "      <td>0.385965</td>\n",
       "      <td>1</td>\n",
       "      <td>0</td>\n",
       "      <td>0</td>\n",
       "      <td>0</td>\n",
       "      <td>0</td>\n",
       "      <td>1</td>\n",
       "      <td>0</td>\n",
       "      <td>0</td>\n",
       "    </tr>\n",
       "  </tbody>\n",
       "</table>\n",
       "<p>10000 rows × 15 columns</p>\n",
       "</div>"
      ],
      "text/plain": [
       "           date    period  nswprice  nswdemand  vicprice  vicdemand  transfer  \\\n",
       "10000  0.030707  0.340426  0.089828   0.298572  0.003467   0.422915  0.414912   \n",
       "10001  0.030707  0.361702  0.089828   0.319101  0.003467   0.422915  0.414912   \n",
       "10002  0.030707  0.382979  0.089828   0.322672  0.003467   0.422915  0.414912   \n",
       "10003  0.030707  0.404255  0.083794   0.320589  0.003467   0.422915  0.414912   \n",
       "10004  0.030707  0.425532  0.089828   0.310176  0.003467   0.422915  0.414912   \n",
       "...         ...       ...       ...        ...       ...        ...       ...   \n",
       "19995  0.447724  0.574468  0.047796   0.623475  0.003851   0.646815  0.256140   \n",
       "19996  0.447724  0.595745  0.042152   0.601755  0.003297   0.638011  0.247368   \n",
       "19997  0.447724  0.617021  0.043233   0.605623  0.003008   0.617038  0.277193   \n",
       "19998  0.447724  0.638298  0.042272   0.608747  0.002933   0.592698  0.353070   \n",
       "19999  0.447724  0.659574  0.055362   0.640137  0.003828   0.573278  0.385965   \n",
       "\n",
       "       target  day_b'1'  day_b'2'  day_b'3'  day_b'4'  day_b'5'  day_b'6'  \\\n",
       "10000       1         0         0         0         0         0         0   \n",
       "10001       1         0         0         0         0         0         0   \n",
       "10002       1         0         0         0         0         0         0   \n",
       "10003       1         0         0         0         0         0         0   \n",
       "10004       1         0         0         0         0         0         0   \n",
       "...       ...       ...       ...       ...       ...       ...       ...   \n",
       "19995       0         0         0         0         0         1         0   \n",
       "19996       0         0         0         0         0         1         0   \n",
       "19997       0         0         0         0         0         1         0   \n",
       "19998       0         0         0         0         0         1         0   \n",
       "19999       1         0         0         0         0         1         0   \n",
       "\n",
       "       day_b'7'  \n",
       "10000         1  \n",
       "10001         1  \n",
       "10002         1  \n",
       "10003         1  \n",
       "10004         1  \n",
       "...         ...  \n",
       "19995         0  \n",
       "19996         0  \n",
       "19997         0  \n",
       "19998         0  \n",
       "19999         0  \n",
       "\n",
       "[10000 rows x 15 columns]"
      ]
     },
     "execution_count": 3,
     "metadata": {},
     "output_type": "execute_result"
    }
   ],
   "source": [
    "df[10000:20000]"
   ]
  },
  {
   "cell_type": "code",
   "execution_count": 4,
   "metadata": {},
   "outputs": [
    {
     "name": "stdout",
     "output_type": "stream",
     "text": [
      "<class 'pandas.core.frame.DataFrame'>\n",
      "RangeIndex: 45312 entries, 0 to 45311\n",
      "Data columns (total 15 columns):\n",
      " #   Column     Non-Null Count  Dtype  \n",
      "---  ------     --------------  -----  \n",
      " 0   date       45312 non-null  float64\n",
      " 1   period     45312 non-null  float64\n",
      " 2   nswprice   45312 non-null  float64\n",
      " 3   nswdemand  45312 non-null  float64\n",
      " 4   vicprice   45312 non-null  float64\n",
      " 5   vicdemand  45312 non-null  float64\n",
      " 6   transfer   45312 non-null  float64\n",
      " 7   target     45312 non-null  int64  \n",
      " 8   day_b'1'   45312 non-null  uint8  \n",
      " 9   day_b'2'   45312 non-null  uint8  \n",
      " 10  day_b'3'   45312 non-null  uint8  \n",
      " 11  day_b'4'   45312 non-null  uint8  \n",
      " 12  day_b'5'   45312 non-null  uint8  \n",
      " 13  day_b'6'   45312 non-null  uint8  \n",
      " 14  day_b'7'   45312 non-null  uint8  \n",
      "dtypes: float64(7), int64(1), uint8(7)\n",
      "memory usage: 3.1 MB\n"
     ]
    }
   ],
   "source": [
    "df.info()"
   ]
  },
  {
   "cell_type": "code",
   "execution_count": 5,
   "metadata": {},
   "outputs": [
    {
     "name": "stdout",
     "output_type": "stream",
     "text": [
      "190.37229263333415\n",
      "97.65797924750093\n",
      "77.6550972906761\n"
     ]
    }
   ],
   "source": [
    "first = df.query('date < 0.45')\n",
    "second = df.query('date > 0.98')\n",
    "v1 = np.sqrt(np.sum((scipy.linalg.svdvals(first) - scipy.linalg.svdvals(second))**2))\n",
    "U, S, VT = la.svd(first)\n",
    "U_s, S_s, VT_s = la.svd(second)\n",
    "print(v1)\n",
    "\n",
    "first = df.query('date < 0.45')\n",
    "second = df.query('date > 0.90')\n",
    "v2 = np.sqrt(np.sum((scipy.linalg.svdvals(first) - scipy.linalg.svdvals(second))**2))\n",
    "print(v2)\n",
    "\n",
    "first = df.query('date < 0.60')\n",
    "second = df.query('date > 0.60 and date < 0.90')\n",
    "U, S, VT = la.svd(first)\n",
    "U_s, S_s, VT_s = la.svd(second)\n",
    "v3 = np.sqrt(np.sum((scipy.linalg.svdvals(first) - scipy.linalg.svdvals(second))**2))\n",
    "print(v3)\n",
    "\n",
    "first = df.query('date < 0.45')\n",
    "second = df.query('date > 0.90')"
   ]
  },
  {
   "cell_type": "code",
   "execution_count": 6,
   "metadata": {},
   "outputs": [
    {
     "data": {
      "text/plain": [
       "array([-0.24, -0.46, -0.05, -0.37, -0.  , -0.35, -0.38, -0.46, -0.12,\n",
       "       -0.12, -0.12, -0.12, -0.12, -0.12, -0.11])"
      ]
     },
     "execution_count": 6,
     "metadata": {},
     "output_type": "execute_result"
    }
   ],
   "source": [
    "np.round(VT[0], 2)"
   ]
  },
  {
   "cell_type": "code",
   "execution_count": 7,
   "metadata": {},
   "outputs": [
    {
     "data": {
      "text/plain": [
       "array([-0.59, -0.36, -0.04, -0.32, -0.  , -0.31, -0.4 , -0.33, -0.09,\n",
       "       -0.09, -0.1 , -0.1 , -0.1 , -0.1 , -0.1 ])"
      ]
     },
     "execution_count": 7,
     "metadata": {},
     "output_type": "execute_result"
    }
   ],
   "source": [
    "np.round(VT_s[0], 2)"
   ]
  },
  {
   "cell_type": "code",
   "execution_count": 8,
   "metadata": {},
   "outputs": [
    {
     "name": "stdout",
     "output_type": "stream",
     "text": [
      "0.9196151271197985\n",
      "-0.9242744111026364\n",
      "0.8326324200875465\n",
      "0.014504586130428229\n"
     ]
    }
   ],
   "source": [
    "print(np.dot(VT_s[0], VT[0]))\n",
    "print(np.dot(VT_s[1], VT[1]))\n",
    "print(np.dot(VT_s[2], VT[2]))\n",
    "print(np.dot(VT_s[3], VT[3]))"
   ]
  },
  {
   "cell_type": "code",
   "execution_count": 9,
   "metadata": {},
   "outputs": [
    {
     "name": "stdout",
     "output_type": "stream",
     "text": [
      "0.9196151271197985\n",
      "-0.9242744111026364\n",
      "0.8326324200875465\n",
      "0.014504586130428229\n"
     ]
    }
   ],
   "source": [
    "print(np.dot(VT_s[0], VT[0]))\n",
    "print(np.dot(VT_s[1], VT[1]))\n",
    "print(np.dot(VT_s[2], VT[2]))\n",
    "print(np.dot(VT_s[3], VT[3]))"
   ]
  },
  {
   "cell_type": "code",
   "execution_count": 10,
   "metadata": {},
   "outputs": [],
   "source": [
    "X = first.drop(columns=['target', 'date'])\n",
    "y = first['target']\n",
    "weights = la.inv(X.T @ X) @ X.T @ y"
   ]
  },
  {
   "cell_type": "code",
   "execution_count": 11,
   "metadata": {},
   "outputs": [],
   "source": [
    "test_X = second.drop(columns=['target', 'date'])\n",
    "test_y = second['target']"
   ]
  },
  {
   "cell_type": "code",
   "execution_count": 12,
   "metadata": {},
   "outputs": [],
   "source": [
    "weights.index = X.columns"
   ]
  },
  {
   "cell_type": "code",
   "execution_count": 13,
   "metadata": {},
   "outputs": [
    {
     "data": {
      "text/html": [
       "<div>\n",
       "<style scoped>\n",
       "    .dataframe tbody tr th:only-of-type {\n",
       "        vertical-align: middle;\n",
       "    }\n",
       "\n",
       "    .dataframe tbody tr th {\n",
       "        vertical-align: top;\n",
       "    }\n",
       "\n",
       "    .dataframe thead th {\n",
       "        text-align: right;\n",
       "    }\n",
       "</style>\n",
       "<table border=\"1\" class=\"dataframe\">\n",
       "  <thead>\n",
       "    <tr style=\"text-align: right;\">\n",
       "      <th></th>\n",
       "      <th>first</th>\n",
       "      <th>second</th>\n",
       "    </tr>\n",
       "  </thead>\n",
       "  <tbody>\n",
       "    <tr>\n",
       "      <th>date</th>\n",
       "      <td>0.01</td>\n",
       "      <td>-0.05</td>\n",
       "    </tr>\n",
       "    <tr>\n",
       "      <th>period</th>\n",
       "      <td>0.17</td>\n",
       "      <td>0.11</td>\n",
       "    </tr>\n",
       "    <tr>\n",
       "      <th>nswprice</th>\n",
       "      <td>0.58</td>\n",
       "      <td>0.54</td>\n",
       "    </tr>\n",
       "    <tr>\n",
       "      <th>nswdemand</th>\n",
       "      <td>0.34</td>\n",
       "      <td>0.41</td>\n",
       "    </tr>\n",
       "    <tr>\n",
       "      <th>vicprice</th>\n",
       "      <td>0.21</td>\n",
       "      <td>0.15</td>\n",
       "    </tr>\n",
       "    <tr>\n",
       "      <th>vicdemand</th>\n",
       "      <td>0.15</td>\n",
       "      <td>0.38</td>\n",
       "    </tr>\n",
       "    <tr>\n",
       "      <th>transfer</th>\n",
       "      <td>-0.09</td>\n",
       "      <td>-0.17</td>\n",
       "    </tr>\n",
       "    <tr>\n",
       "      <th>target</th>\n",
       "      <td>1.00</td>\n",
       "      <td>1.00</td>\n",
       "    </tr>\n",
       "    <tr>\n",
       "      <th>day_b'1'</th>\n",
       "      <td>0.07</td>\n",
       "      <td>0.01</td>\n",
       "    </tr>\n",
       "    <tr>\n",
       "      <th>day_b'2'</th>\n",
       "      <td>-0.01</td>\n",
       "      <td>0.14</td>\n",
       "    </tr>\n",
       "    <tr>\n",
       "      <th>day_b'3'</th>\n",
       "      <td>-0.02</td>\n",
       "      <td>0.00</td>\n",
       "    </tr>\n",
       "    <tr>\n",
       "      <th>day_b'4'</th>\n",
       "      <td>-0.01</td>\n",
       "      <td>-0.04</td>\n",
       "    </tr>\n",
       "    <tr>\n",
       "      <th>day_b'5'</th>\n",
       "      <td>-0.02</td>\n",
       "      <td>-0.01</td>\n",
       "    </tr>\n",
       "    <tr>\n",
       "      <th>day_b'6'</th>\n",
       "      <td>-0.01</td>\n",
       "      <td>-0.02</td>\n",
       "    </tr>\n",
       "    <tr>\n",
       "      <th>day_b'7'</th>\n",
       "      <td>-0.01</td>\n",
       "      <td>-0.08</td>\n",
       "    </tr>\n",
       "  </tbody>\n",
       "</table>\n",
       "</div>"
      ],
      "text/plain": [
       "           first  second\n",
       "date        0.01   -0.05\n",
       "period      0.17    0.11\n",
       "nswprice    0.58    0.54\n",
       "nswdemand   0.34    0.41\n",
       "vicprice    0.21    0.15\n",
       "vicdemand   0.15    0.38\n",
       "transfer   -0.09   -0.17\n",
       "target      1.00    1.00\n",
       "day_b'1'    0.07    0.01\n",
       "day_b'2'   -0.01    0.14\n",
       "day_b'3'   -0.02    0.00\n",
       "day_b'4'   -0.01   -0.04\n",
       "day_b'5'   -0.02   -0.01\n",
       "day_b'6'   -0.01   -0.02\n",
       "day_b'7'   -0.01   -0.08"
      ]
     },
     "execution_count": 13,
     "metadata": {},
     "output_type": "execute_result"
    }
   ],
   "source": [
    "corr_compare = pd.DataFrame({'first':first.corr().round(2)['target'], 'second':second.corr().round(2)['target']})\n",
    "corr_compare"
   ]
  },
  {
   "cell_type": "code",
   "execution_count": 14,
   "metadata": {},
   "outputs": [],
   "source": [
    "weights.loc['vicdemand'] *= 1.23\n",
    "# weights.loc[\"day_b'2'\"] *= 1.23\n",
    "pred_y = test_X.values @ weights"
   ]
  },
  {
   "cell_type": "code",
   "execution_count": 15,
   "metadata": {},
   "outputs": [
    {
     "name": "stdout",
     "output_type": "stream",
     "text": [
      "train error: 0.8180423594615994\n",
      "test error: 0.8333333333333334\n"
     ]
    }
   ],
   "source": [
    "print(f\"train error: {np.mean(np.where(X.values @ weights < 0.5, 0, 1) == y)}\")\n",
    "print(f\"test error: {np.mean(np.where(pred_y < 0.5, 0, 1) == test_y)}\")"
   ]
  },
  {
   "cell_type": "markdown",
   "metadata": {},
   "source": [
    "### Using resampling approaches at the data drift point \n",
    "\n",
    "1. The case where we are doing the data analysis in real time. Retrain the model with more weight on the most recent data?\n",
    "2. The case where we have SOME of the test values but not all of them. Once again we can train on these with higher weights on these samples. \n",
    "3. Use the PCA and K-Means approach?\n",
    "\n",
    "\n",
    "**How does Sklearn implement their sample weighting?**\n",
    "\n",
    "- I think one approach is to make a new loss function where it is disjoint? \n",
    "- Another approach for this project is making probabilities more uncertain for drifted data and comparing the log-loss of this function compared to the regular one. The theory predicts that higher uncertainity should lead to a better loss. "
   ]
  },
  {
   "cell_type": "markdown",
   "metadata": {},
   "source": [
    "### Applying PCA"
   ]
  },
  {
   "cell_type": "code",
   "execution_count": 16,
   "metadata": {},
   "outputs": [],
   "source": [
    "pca_99 = PCA(.999)"
   ]
  },
  {
   "cell_type": "code",
   "execution_count": 17,
   "metadata": {},
   "outputs": [],
   "source": [
    "before = df.query('date <= 0.8')\n",
    "after = df.query('date > 0.8')\n",
    "X_before = before.drop(columns=['target', 'date'])\n",
    "y_before = before['target']"
   ]
  },
  {
   "cell_type": "code",
   "execution_count": 18,
   "metadata": {},
   "outputs": [],
   "source": [
    "X_after = after.drop(columns=['target', 'date'])\n",
    "y_after = after['target']"
   ]
  },
  {
   "cell_type": "code",
   "execution_count": 19,
   "metadata": {},
   "outputs": [
    {
     "data": {
      "text/plain": [
       "(16272, 13)"
      ]
     },
     "execution_count": 19,
     "metadata": {},
     "output_type": "execute_result"
    }
   ],
   "source": [
    "X_after.shape"
   ]
  },
  {
   "cell_type": "code",
   "execution_count": 20,
   "metadata": {},
   "outputs": [
    {
     "data": {
      "text/plain": [
       "(29040, 13)"
      ]
     },
     "execution_count": 20,
     "metadata": {},
     "output_type": "execute_result"
    }
   ],
   "source": [
    "X_before.shape"
   ]
  },
  {
   "cell_type": "code",
   "execution_count": 21,
   "metadata": {},
   "outputs": [
    {
     "data": {
      "text/html": [
       "<div>\n",
       "<style scoped>\n",
       "    .dataframe tbody tr th:only-of-type {\n",
       "        vertical-align: middle;\n",
       "    }\n",
       "\n",
       "    .dataframe tbody tr th {\n",
       "        vertical-align: top;\n",
       "    }\n",
       "\n",
       "    .dataframe thead th {\n",
       "        text-align: right;\n",
       "    }\n",
       "</style>\n",
       "<table border=\"1\" class=\"dataframe\">\n",
       "  <thead>\n",
       "    <tr style=\"text-align: right;\">\n",
       "      <th></th>\n",
       "      <th>0</th>\n",
       "      <th>1</th>\n",
       "      <th>2</th>\n",
       "      <th>3</th>\n",
       "      <th>4</th>\n",
       "      <th>5</th>\n",
       "      <th>6</th>\n",
       "      <th>7</th>\n",
       "      <th>8</th>\n",
       "      <th>9</th>\n",
       "      <th>10</th>\n",
       "    </tr>\n",
       "  </thead>\n",
       "  <tbody>\n",
       "    <tr>\n",
       "      <th>0</th>\n",
       "      <td>-0.215637</td>\n",
       "      <td>-0.112728</td>\n",
       "      <td>0.843011</td>\n",
       "      <td>-0.175446</td>\n",
       "      <td>-0.198261</td>\n",
       "      <td>0.000120</td>\n",
       "      <td>0.497076</td>\n",
       "      <td>0.137403</td>\n",
       "      <td>0.021949</td>\n",
       "      <td>-0.035649</td>\n",
       "      <td>-0.009262</td>\n",
       "    </tr>\n",
       "    <tr>\n",
       "      <th>1</th>\n",
       "      <td>-0.213058</td>\n",
       "      <td>-0.112749</td>\n",
       "      <td>0.842914</td>\n",
       "      <td>-0.174970</td>\n",
       "      <td>-0.198776</td>\n",
       "      <td>0.000115</td>\n",
       "      <td>0.483539</td>\n",
       "      <td>0.114010</td>\n",
       "      <td>0.006473</td>\n",
       "      <td>-0.027446</td>\n",
       "      <td>-0.012641</td>\n",
       "    </tr>\n",
       "    <tr>\n",
       "      <th>2</th>\n",
       "      <td>-0.209559</td>\n",
       "      <td>-0.112775</td>\n",
       "      <td>0.842779</td>\n",
       "      <td>-0.174378</td>\n",
       "      <td>-0.199465</td>\n",
       "      <td>0.000116</td>\n",
       "      <td>0.471557</td>\n",
       "      <td>0.086779</td>\n",
       "      <td>-0.012509</td>\n",
       "      <td>-0.017687</td>\n",
       "      <td>-0.011237</td>\n",
       "    </tr>\n",
       "    <tr>\n",
       "      <th>3</th>\n",
       "      <td>-0.199392</td>\n",
       "      <td>-0.112843</td>\n",
       "      <td>0.842408</td>\n",
       "      <td>-0.172894</td>\n",
       "      <td>-0.201359</td>\n",
       "      <td>0.000112</td>\n",
       "      <td>0.470731</td>\n",
       "      <td>0.030446</td>\n",
       "      <td>-0.053419</td>\n",
       "      <td>0.004178</td>\n",
       "      <td>-0.013452</td>\n",
       "    </tr>\n",
       "    <tr>\n",
       "      <th>4</th>\n",
       "      <td>-0.190381</td>\n",
       "      <td>-0.112904</td>\n",
       "      <td>0.842076</td>\n",
       "      <td>-0.171567</td>\n",
       "      <td>-0.203048</td>\n",
       "      <td>0.000111</td>\n",
       "      <td>0.467977</td>\n",
       "      <td>-0.020776</td>\n",
       "      <td>-0.090707</td>\n",
       "      <td>0.023902</td>\n",
       "      <td>-0.013062</td>\n",
       "    </tr>\n",
       "  </tbody>\n",
       "</table>\n",
       "</div>"
      ],
      "text/plain": [
       "         0         1         2         3         4         5         6   \\\n",
       "0 -0.215637 -0.112728  0.843011 -0.175446 -0.198261  0.000120  0.497076   \n",
       "1 -0.213058 -0.112749  0.842914 -0.174970 -0.198776  0.000115  0.483539   \n",
       "2 -0.209559 -0.112775  0.842779 -0.174378 -0.199465  0.000116  0.471557   \n",
       "3 -0.199392 -0.112843  0.842408 -0.172894 -0.201359  0.000112  0.470731   \n",
       "4 -0.190381 -0.112904  0.842076 -0.171567 -0.203048  0.000111  0.467977   \n",
       "\n",
       "         7         8         9         10  \n",
       "0  0.137403  0.021949 -0.035649 -0.009262  \n",
       "1  0.114010  0.006473 -0.027446 -0.012641  \n",
       "2  0.086779 -0.012509 -0.017687 -0.011237  \n",
       "3  0.030446 -0.053419  0.004178 -0.013452  \n",
       "4 -0.020776 -0.090707  0.023902 -0.013062  "
      ]
     },
     "execution_count": 21,
     "metadata": {},
     "output_type": "execute_result"
    }
   ],
   "source": [
    "components = pca_99.fit_transform(X_before)\n",
    "componentsDf = pd.DataFrame(data = components)\n",
    "componentsDf.head()"
   ]
  },
  {
   "cell_type": "code",
   "execution_count": 22,
   "metadata": {},
   "outputs": [
    {
     "data": {
      "text/plain": [
       "(29040, 11)"
      ]
     },
     "execution_count": 22,
     "metadata": {},
     "output_type": "execute_result"
    }
   ],
   "source": [
    "components.shape"
   ]
  },
  {
   "cell_type": "code",
   "execution_count": 23,
   "metadata": {},
   "outputs": [
    {
     "data": {
      "text/plain": [
       "(11, 11)"
      ]
     },
     "execution_count": 23,
     "metadata": {},
     "output_type": "execute_result"
    }
   ],
   "source": [
    "np.dot(components.T, components).shape"
   ]
  },
  {
   "cell_type": "code",
   "execution_count": 24,
   "metadata": {},
   "outputs": [
    {
     "data": {
      "text/plain": [
       "array([65.35800436, 64.62223551, 64.62115867, 64.41751411, 64.32711042,\n",
       "       64.24957089, 52.07666441, 24.69744594, 19.68248427,  9.80618966,\n",
       "        5.4611653 ])"
      ]
     },
     "execution_count": 24,
     "metadata": {},
     "output_type": "execute_result"
    }
   ],
   "source": [
    "pca_99.singular_values_"
   ]
  },
  {
   "cell_type": "code",
   "execution_count": 25,
   "metadata": {},
   "outputs": [],
   "source": [
    "V = pca_99.components_"
   ]
  },
  {
   "cell_type": "markdown",
   "metadata": {},
   "source": [
    "Now we have the principal comopnets of `X_before`, then we want to project `X_after` to the principal componets of `X_before` to get a projection matrix of `X_after`"
   ]
  },
  {
   "cell_type": "code",
   "execution_count": 26,
   "metadata": {},
   "outputs": [
    {
     "data": {
      "text/plain": [
       "(16272, 13)"
      ]
     },
     "execution_count": 26,
     "metadata": {},
     "output_type": "execute_result"
    }
   ],
   "source": [
    "X_projection = X_after@V.T@V\n",
    "X_projection.shape"
   ]
  },
  {
   "cell_type": "markdown",
   "metadata": {},
   "source": [
    "Then, we want to compare the statistical distribution of each of the features in `X_before` with the one in `X_projection` by using *KL-divergence* to see if the distribution of each feature changes. If the change-score pass a certain threshold, then it is likely that the distribution of the training data is different from that in the test data. "
   ]
  },
  {
   "cell_type": "markdown",
   "metadata": {},
   "source": [
    "The definition of *KL-divergence* for continus variable is as follow $$D_{KL}(P \\parallel Q) = \\int_{-\\infty}^{\\infty} p(x)\\log(\\frac{p(x)}{q(x)}) dx\\$$"
   ]
  },
  {
   "cell_type": "code",
   "execution_count": 27,
   "metadata": {},
   "outputs": [],
   "source": [
    "from scipy.stats import norm"
   ]
  },
  {
   "cell_type": "code",
   "execution_count": 28,
   "metadata": {},
   "outputs": [
    {
     "data": {
      "text/plain": [
       "29040   -4.449208e-07\n",
       "29041    2.127652e-02\n",
       "29042    4.255247e-02\n",
       "29043    6.382946e-02\n",
       "29044    8.510550e-02\n",
       "             ...     \n",
       "45307    9.148936e-01\n",
       "45308    9.361696e-01\n",
       "45309    9.574466e-01\n",
       "45310    9.787226e-01\n",
       "45311    9.999996e-01\n",
       "Name: 0, Length: 16272, dtype: float64"
      ]
     },
     "execution_count": 28,
     "metadata": {},
     "output_type": "execute_result"
    }
   ],
   "source": [
    "X_projection[:][0]"
   ]
  },
  {
   "cell_type": "code",
   "execution_count": 29,
   "metadata": {},
   "outputs": [
    {
     "data": {
      "text/plain": [
       "array([1.00059464, 1.00032815, 0.99966111, ..., 0.63290425, 0.62077441,\n",
       "       0.60728361])"
      ]
     },
     "execution_count": 29,
     "metadata": {},
     "output_type": "execute_result"
    }
   ],
   "source": [
    "norm.pdf(X_projection[:][0])/norm.pdf(X_projection[:][1])"
   ]
  },
  {
   "cell_type": "code",
   "execution_count": 30,
   "metadata": {},
   "outputs": [
    {
     "data": {
      "text/plain": [
       "127.25471707766098"
      ]
     },
     "execution_count": 30,
     "metadata": {},
     "output_type": "execute_result"
    }
   ],
   "source": [
    "from sklearn import preprocessing\n",
    "normed = preprocessing.normalize(norm.pdf(X_projection[:][4]).reshape(1, -1))\n",
    "np.sum(normed)"
   ]
  },
  {
   "cell_type": "code",
   "execution_count": 31,
   "metadata": {},
   "outputs": [],
   "source": [
    "def kl_divergence(p, q):\n",
    "    return np.sum(np.where(p != 0, p.dot(np.log(p / q)), 0))"
   ]
  },
  {
   "cell_type": "code",
   "execution_count": 32,
   "metadata": {},
   "outputs": [],
   "source": [
    "def get_change_score(f_before, f_after):\n",
    "#     entropy_train_valid = scipy.special.rel_entr(f_before, f_after)   \n",
    "#     kl_div_train_valid = np.sum(entropy_train_valid)\n",
    "#     p = norm.pdf(f_before)\n",
    "#     q = norm.pdf(f_after)\n",
    "    change_score = kl_divergence_2(f_before, f_after)\n",
    "    \n",
    "    \n",
    "    return change_score"
   ]
  },
  {
   "cell_type": "code",
   "execution_count": 33,
   "metadata": {},
   "outputs": [
    {
     "data": {
      "text/plain": [
       "(16272,)"
      ]
     },
     "execution_count": 33,
     "metadata": {},
     "output_type": "execute_result"
    }
   ],
   "source": [
    "(norm.pdf(X_projection[:][2])).shape"
   ]
  },
  {
   "cell_type": "code",
   "execution_count": 35,
   "metadata": {},
   "outputs": [],
   "source": [
    "X_array = X_before.to_numpy()"
   ]
  },
  {
   "cell_type": "code",
   "execution_count": 36,
   "metadata": {},
   "outputs": [
    {
     "data": {
      "text/plain": [
       "inf"
      ]
     },
     "execution_count": 36,
     "metadata": {},
     "output_type": "execute_result"
    }
   ],
   "source": [
    "from scipy.special import rel_entr\n",
    "sum(rel_entr(X_projection[:][4], X_array[:16272,4]))"
   ]
  },
  {
   "cell_type": "code",
   "execution_count": 37,
   "metadata": {},
   "outputs": [
    {
     "data": {
      "text/plain": [
       "(13,)"
      ]
     },
     "execution_count": 37,
     "metadata": {},
     "output_type": "execute_result"
    }
   ],
   "source": [
    "norm.pdf(X_array[:][0]).shape"
   ]
  },
  {
   "cell_type": "code",
   "execution_count": 38,
   "metadata": {},
   "outputs": [
    {
     "data": {
      "text/plain": [
       "(29040,)"
      ]
     },
     "execution_count": 38,
     "metadata": {},
     "output_type": "execute_result"
    }
   ],
   "source": [
    "X_array[:,0].shape"
   ]
  },
  {
   "cell_type": "code",
   "execution_count": 47,
   "metadata": {},
   "outputs": [
    {
     "data": {
      "text/plain": [
       "(16272, 13)"
      ]
     },
     "execution_count": 47,
     "metadata": {},
     "output_type": "execute_result"
    }
   ],
   "source": [
    "X_array.shape\n",
    "X_projection.shape"
   ]
  },
  {
   "cell_type": "code",
   "execution_count": 55,
   "metadata": {},
   "outputs": [
    {
     "data": {
      "text/plain": [
       "<matplotlib.collections.PathCollection at 0x7fbcab7c9b20>"
      ]
     },
     "execution_count": 55,
     "metadata": {},
     "output_type": "execute_result"
    },
    {
     "data": {
      "image/png": "[encoded data removed]",
      "text/plain": [
       "<Figure size 432x288 with 1 Axes>"
      ]
     },
     "metadata": {
      "needs_background": "light"
     },
     "output_type": "display_data"
    }
   ],
   "source": [
    "import matplotlib.pyplot as plt\n",
    "import seaborn as sns\n",
    "plt.scatter(X_array[:16272,1], norm.pdf(X_array[:16272,1]))\n",
    "plt.scatter(X_projection[:][1], norm.pdf(X_projection[:][1]))"
   ]
  },
  {
   "cell_type": "code",
   "execution_count": 56,
   "metadata": {},
   "outputs": [
    {
     "data": {
      "text/plain": [
       "array([0.39870519, 0.39872115, 0.39871638, ..., 0.39857705, 0.39808093,\n",
       "       0.39844781])"
      ]
     },
     "execution_count": 56,
     "metadata": {},
     "output_type": "execute_result"
    }
   ],
   "source": [
    "norm.pdf(X_projection[:][1])"
   ]
  },
  {
   "cell_type": "code",
   "execution_count": 57,
   "metadata": {},
   "outputs": [
    {
     "data": {
      "image/png": "[encoded data removed]",
      "text/plain": [
       "<Figure size 432x288 with 1 Axes>"
      ]
     },
     "metadata": {
      "needs_background": "light"
     },
     "output_type": "display_data"
    }
   ],
   "source": [
    "fig, ax = plt.subplots(1, 1)\n",
    "ax.plot(df['date'].to_numpy())\n",
    "plt.show()"
   ]
  },
  {
   "cell_type": "code",
   "execution_count": 58,
   "metadata": {},
   "outputs": [
    {
     "data": {
      "text/plain": [
       "[<matplotlib.lines.Line2D at 0x7fc153efbd30>]"
      ]
     },
     "execution_count": 58,
     "metadata": {},
     "output_type": "execute_result"
    },
    {
     "data": {
      "image/png": "[encoded data removed]",
      "text/plain": [
       "<Figure size 432x288 with 1 Axes>"
      ]
     },
     "metadata": {
      "needs_background": "light"
     },
     "output_type": "display_data"
    }
   ],
   "source": [
    "fig, ax = plt.subplots(1, 1)\n",
    "ax.plot(df['nswprice'].to_numpy())"
   ]
  },
  {
   "cell_type": "code",
   "execution_count": 59,
   "metadata": {},
   "outputs": [
    {
     "data": {
      "text/plain": [
       "['date',\n",
       " 'period',\n",
       " 'nswprice',\n",
       " 'nswdemand',\n",
       " 'vicprice',\n",
       " 'vicdemand',\n",
       " 'transfer',\n",
       " 'target',\n",
       " \"day_b'1'\",\n",
       " \"day_b'2'\",\n",
       " \"day_b'3'\",\n",
       " \"day_b'4'\",\n",
       " \"day_b'5'\",\n",
       " \"day_b'6'\",\n",
       " \"day_b'7'\"]"
      ]
     },
     "execution_count": 59,
     "metadata": {},
     "output_type": "execute_result"
    }
   ],
   "source": [
    "col_list = df.columns.tolist()\n",
    "col_list"
   ]
  },
  {
   "cell_type": "code",
   "execution_count": 60,
   "metadata": {},
   "outputs": [],
   "source": [
    "col_list.remove('period')"
   ]
  },
  {
   "cell_type": "markdown",
   "metadata": {},
   "source": [
    "## Visualization of original data"
   ]
  },
  {
   "cell_type": "code",
   "execution_count": 61,
   "metadata": {},
   "outputs": [
    {
     "data": {
      "image/png": "[encoded data removed]",
      "text/plain": [
       "<Figure size 864x576 with 6 Axes>"
      ]
     },
     "metadata": {
      "needs_background": "light"
     },
     "output_type": "display_data"
    }
   ],
   "source": [
    "# variable distribution (without 'period' and 'day(1-7)')\n",
    "fig, axes = plt.subplots(2,3,sharex='all', figsize = (12,8))\n",
    "for index, column in enumerate(col_list[:6]):\n",
    "    row = index // 3\n",
    "    col = index % 3\n",
    "    axes[row,col].hist(df[column], bins = 20)\n",
    "    axes[row,col].set_title(column)\n",
    "    fig.suptitle(\"Variable Distribution (without 'period' and 'day (1-7)'\", fontsize=16)"
   ]
  },
  {
   "cell_type": "code",
   "execution_count": 62,
   "metadata": {},
   "outputs": [
    {
     "data": {
      "text/plain": [
       "(45312,)"
      ]
     },
     "execution_count": 62,
     "metadata": {},
     "output_type": "execute_result"
    }
   ],
   "source": [
    "date_array = df['date'].to_numpy()\n",
    "date_array.shape"
   ]
  },
  {
   "cell_type": "code",
   "execution_count": 63,
   "metadata": {},
   "outputs": [
    {
     "data": {
      "text/plain": [
       "(4512,)"
      ]
     },
     "execution_count": 63,
     "metadata": {},
     "output_type": "execute_result"
    }
   ],
   "source": [
    "date_array[date_array<np.nanquantile(date_array, 0.1)].shape"
   ]
  },
  {
   "cell_type": "markdown",
   "metadata": {},
   "source": [
    "## Main Function"
   ]
  },
  {
   "cell_type": "code",
   "execution_count": 66,
   "metadata": {},
   "outputs": [],
   "source": [
    "# set window period and get KL divergence score for each window\n",
    "def setWindow(quantile):\n",
    "    step = np.arange(0,1,quantile)\n",
    "    score_list = []\n",
    "    for i in step:\n",
    "        lower_bond = np.round(i,3)\n",
    "        mid_bond = np.round(i+quantile,3)\n",
    "        upper_bond = np.round(i+2*quantile,3)\n",
    "        if upper_bond <= 1:\n",
    "            print(lower_bond,mid_bond,upper_bond )\n",
    "            score = detect_shift(lower_bond, mid_bond, upper_bond)\n",
    "            score_list.append(score)\n",
    "    \n",
    "    return np.array(score_list)"
   ]
  },
  {
   "cell_type": "code",
   "execution_count": 71,
   "metadata": {},
   "outputs": [
    {
     "name": "stderr",
     "output_type": "stream",
     "text": [
      "<ipython-input-49-90dabc06524b>:7: RuntimeWarning: divide by zero encountered in log\n",
      "  score = p[i] * (np.log(p[i] / q[i]))\n",
      "<ipython-input-49-90dabc06524b>:7: RuntimeWarning: invalid value encountered in double_scalars\n",
      "  score = p[i] * (np.log(p[i] / q[i]))\n"
     ]
    }
   ],
   "source": [
    "x1, x2 = detect_shift(0.0,0.1,0.2, True)"
   ]
  },
  {
   "cell_type": "code",
   "execution_count": 72,
   "metadata": {},
   "outputs": [
    {
     "name": "stdout",
     "output_type": "stream",
     "text": [
      "0.0 0.1 0.2\n"
     ]
    },
    {
     "name": "stderr",
     "output_type": "stream",
     "text": [
      "<ipython-input-49-90dabc06524b>:7: RuntimeWarning: divide by zero encountered in log\n",
      "  score = p[i] * (np.log(p[i] / q[i]))\n",
      "<ipython-input-49-90dabc06524b>:7: RuntimeWarning: invalid value encountered in double_scalars\n",
      "  score = p[i] * (np.log(p[i] / q[i]))\n"
     ]
    },
    {
     "name": "stdout",
     "output_type": "stream",
     "text": [
      "0.1 0.2 0.3\n"
     ]
    },
    {
     "name": "stderr",
     "output_type": "stream",
     "text": [
      "<ipython-input-49-90dabc06524b>:7: RuntimeWarning: divide by zero encountered in log\n",
      "  score = p[i] * (np.log(p[i] / q[i]))\n",
      "<ipython-input-49-90dabc06524b>:7: RuntimeWarning: invalid value encountered in double_scalars\n",
      "  score = p[i] * (np.log(p[i] / q[i]))\n"
     ]
    },
    {
     "name": "stdout",
     "output_type": "stream",
     "text": [
      "0.2 0.3 0.4\n"
     ]
    },
    {
     "name": "stderr",
     "output_type": "stream",
     "text": [
      "<ipython-input-49-90dabc06524b>:7: RuntimeWarning: divide by zero encountered in log\n",
      "  score = p[i] * (np.log(p[i] / q[i]))\n",
      "<ipython-input-49-90dabc06524b>:7: RuntimeWarning: invalid value encountered in double_scalars\n",
      "  score = p[i] * (np.log(p[i] / q[i]))\n"
     ]
    },
    {
     "name": "stdout",
     "output_type": "stream",
     "text": [
      "0.3 0.4 0.5\n"
     ]
    },
    {
     "name": "stderr",
     "output_type": "stream",
     "text": [
      "<ipython-input-49-90dabc06524b>:7: RuntimeWarning: divide by zero encountered in log\n",
      "  score = p[i] * (np.log(p[i] / q[i]))\n",
      "<ipython-input-49-90dabc06524b>:7: RuntimeWarning: invalid value encountered in double_scalars\n",
      "  score = p[i] * (np.log(p[i] / q[i]))\n"
     ]
    },
    {
     "name": "stdout",
     "output_type": "stream",
     "text": [
      "0.4 0.5 0.6\n"
     ]
    },
    {
     "name": "stderr",
     "output_type": "stream",
     "text": [
      "<ipython-input-49-90dabc06524b>:7: RuntimeWarning: divide by zero encountered in log\n",
      "  score = p[i] * (np.log(p[i] / q[i]))\n",
      "<ipython-input-49-90dabc06524b>:7: RuntimeWarning: invalid value encountered in double_scalars\n",
      "  score = p[i] * (np.log(p[i] / q[i]))\n"
     ]
    },
    {
     "name": "stdout",
     "output_type": "stream",
     "text": [
      "0.5 0.6 0.7\n"
     ]
    },
    {
     "name": "stderr",
     "output_type": "stream",
     "text": [
      "<ipython-input-49-90dabc06524b>:7: RuntimeWarning: divide by zero encountered in log\n",
      "  score = p[i] * (np.log(p[i] / q[i]))\n",
      "<ipython-input-49-90dabc06524b>:7: RuntimeWarning: invalid value encountered in double_scalars\n",
      "  score = p[i] * (np.log(p[i] / q[i]))\n"
     ]
    },
    {
     "name": "stdout",
     "output_type": "stream",
     "text": [
      "0.6 0.7 0.8\n"
     ]
    },
    {
     "name": "stderr",
     "output_type": "stream",
     "text": [
      "<ipython-input-49-90dabc06524b>:7: RuntimeWarning: divide by zero encountered in log\n",
      "  score = p[i] * (np.log(p[i] / q[i]))\n",
      "<ipython-input-49-90dabc06524b>:7: RuntimeWarning: invalid value encountered in double_scalars\n",
      "  score = p[i] * (np.log(p[i] / q[i]))\n"
     ]
    },
    {
     "name": "stdout",
     "output_type": "stream",
     "text": [
      "0.7 0.8 0.9\n"
     ]
    },
    {
     "name": "stderr",
     "output_type": "stream",
     "text": [
      "<ipython-input-49-90dabc06524b>:7: RuntimeWarning: divide by zero encountered in log\n",
      "  score = p[i] * (np.log(p[i] / q[i]))\n",
      "<ipython-input-49-90dabc06524b>:7: RuntimeWarning: invalid value encountered in double_scalars\n",
      "  score = p[i] * (np.log(p[i] / q[i]))\n"
     ]
    },
    {
     "name": "stdout",
     "output_type": "stream",
     "text": [
      "0.8 0.9 1.0\n"
     ]
    },
    {
     "name": "stderr",
     "output_type": "stream",
     "text": [
      "<ipython-input-49-90dabc06524b>:7: RuntimeWarning: divide by zero encountered in log\n",
      "  score = p[i] * (np.log(p[i] / q[i]))\n",
      "<ipython-input-49-90dabc06524b>:7: RuntimeWarning: invalid value encountered in double_scalars\n",
      "  score = p[i] * (np.log(p[i] / q[i]))\n"
     ]
    }
   ],
   "source": [
    "score_list = setWindow(0.1)"
   ]
  },
  {
   "cell_type": "code",
   "execution_count": 73,
   "metadata": {},
   "outputs": [
    {
     "data": {
      "text/plain": [
       "array([[-0.     ,  8.71743,  0.27824,  0.     ,  1.91124,  1.90817],\n",
       "       [-0.     ,  1.45559,  0.29282,  0.     ,  2.31721,  2.32444],\n",
       "       [ 0.     ,  0.28299,  0.03208,  0.     ,  2.1661 ,  2.13986],\n",
       "       [ 0.     ,  0.34511,  0.04184,  2.31048,  1.53221,  2.03099],\n",
       "       [ 0.     ,  3.26963,  0.09364,  2.62582,  0.7376 ,  0.10868],\n",
       "       [-0.     ,  2.11672,  0.04765,  8.00544,  0.20525,  0.4053 ],\n",
       "       [-0.     ,  1.70062,  0.04099,  0.90399,  0.24399,  0.09349],\n",
       "       [-0.     ,  1.10702,  0.03514,  1.13369,  0.41271,  0.06067],\n",
       "       [-0.     ,  0.39695,  0.05407,  4.85526,  0.25497,  0.07422]])"
      ]
     },
     "execution_count": 73,
     "metadata": {},
     "output_type": "execute_result"
    }
   ],
   "source": [
    "score_list"
   ]
  },
  {
   "cell_type": "code",
   "execution_count": 74,
   "metadata": {},
   "outputs": [
    {
     "data": {
      "text/html": [
       "<div>\n",
       "<style scoped>\n",
       "    .dataframe tbody tr th:only-of-type {\n",
       "        vertical-align: middle;\n",
       "    }\n",
       "\n",
       "    .dataframe tbody tr th {\n",
       "        vertical-align: top;\n",
       "    }\n",
       "\n",
       "    .dataframe thead th {\n",
       "        text-align: right;\n",
       "    }\n",
       "</style>\n",
       "<table border=\"1\" class=\"dataframe\">\n",
       "  <thead>\n",
       "    <tr style=\"text-align: right;\">\n",
       "      <th></th>\n",
       "      <th>period</th>\n",
       "      <th>nswprice</th>\n",
       "      <th>nswdemand</th>\n",
       "      <th>vicprice</th>\n",
       "      <th>vicdemand</th>\n",
       "      <th>transfer</th>\n",
       "    </tr>\n",
       "  </thead>\n",
       "  <tbody>\n",
       "    <tr>\n",
       "      <th>0</th>\n",
       "      <td>-0.0</td>\n",
       "      <td>8.71743</td>\n",
       "      <td>0.27824</td>\n",
       "      <td>0.00000</td>\n",
       "      <td>1.91124</td>\n",
       "      <td>1.90817</td>\n",
       "    </tr>\n",
       "    <tr>\n",
       "      <th>1</th>\n",
       "      <td>-0.0</td>\n",
       "      <td>1.45559</td>\n",
       "      <td>0.29282</td>\n",
       "      <td>0.00000</td>\n",
       "      <td>2.31721</td>\n",
       "      <td>2.32444</td>\n",
       "    </tr>\n",
       "    <tr>\n",
       "      <th>2</th>\n",
       "      <td>0.0</td>\n",
       "      <td>0.28299</td>\n",
       "      <td>0.03208</td>\n",
       "      <td>0.00000</td>\n",
       "      <td>2.16610</td>\n",
       "      <td>2.13986</td>\n",
       "    </tr>\n",
       "    <tr>\n",
       "      <th>3</th>\n",
       "      <td>0.0</td>\n",
       "      <td>0.34511</td>\n",
       "      <td>0.04184</td>\n",
       "      <td>2.31048</td>\n",
       "      <td>1.53221</td>\n",
       "      <td>2.03099</td>\n",
       "    </tr>\n",
       "    <tr>\n",
       "      <th>4</th>\n",
       "      <td>0.0</td>\n",
       "      <td>3.26963</td>\n",
       "      <td>0.09364</td>\n",
       "      <td>2.62582</td>\n",
       "      <td>0.73760</td>\n",
       "      <td>0.10868</td>\n",
       "    </tr>\n",
       "    <tr>\n",
       "      <th>5</th>\n",
       "      <td>-0.0</td>\n",
       "      <td>2.11672</td>\n",
       "      <td>0.04765</td>\n",
       "      <td>8.00544</td>\n",
       "      <td>0.20525</td>\n",
       "      <td>0.40530</td>\n",
       "    </tr>\n",
       "    <tr>\n",
       "      <th>6</th>\n",
       "      <td>-0.0</td>\n",
       "      <td>1.70062</td>\n",
       "      <td>0.04099</td>\n",
       "      <td>0.90399</td>\n",
       "      <td>0.24399</td>\n",
       "      <td>0.09349</td>\n",
       "    </tr>\n",
       "    <tr>\n",
       "      <th>7</th>\n",
       "      <td>-0.0</td>\n",
       "      <td>1.10702</td>\n",
       "      <td>0.03514</td>\n",
       "      <td>1.13369</td>\n",
       "      <td>0.41271</td>\n",
       "      <td>0.06067</td>\n",
       "    </tr>\n",
       "    <tr>\n",
       "      <th>8</th>\n",
       "      <td>-0.0</td>\n",
       "      <td>0.39695</td>\n",
       "      <td>0.05407</td>\n",
       "      <td>4.85526</td>\n",
       "      <td>0.25497</td>\n",
       "      <td>0.07422</td>\n",
       "    </tr>\n",
       "  </tbody>\n",
       "</table>\n",
       "</div>"
      ],
      "text/plain": [
       "   period  nswprice  nswdemand  vicprice  vicdemand  transfer\n",
       "0    -0.0   8.71743    0.27824   0.00000    1.91124   1.90817\n",
       "1    -0.0   1.45559    0.29282   0.00000    2.31721   2.32444\n",
       "2     0.0   0.28299    0.03208   0.00000    2.16610   2.13986\n",
       "3     0.0   0.34511    0.04184   2.31048    1.53221   2.03099\n",
       "4     0.0   3.26963    0.09364   2.62582    0.73760   0.10868\n",
       "5    -0.0   2.11672    0.04765   8.00544    0.20525   0.40530\n",
       "6    -0.0   1.70062    0.04099   0.90399    0.24399   0.09349\n",
       "7    -0.0   1.10702    0.03514   1.13369    0.41271   0.06067\n",
       "8    -0.0   0.39695    0.05407   4.85526    0.25497   0.07422"
      ]
     },
     "execution_count": 74,
     "metadata": {},
     "output_type": "execute_result"
    }
   ],
   "source": [
    "pd.DataFrame(score_list, columns = x1.columns.tolist())"
   ]
  },
  {
   "cell_type": "code",
   "execution_count": 114,
   "metadata": {},
   "outputs": [
    {
     "name": "stderr",
     "output_type": "stream",
     "text": [
      "<ipython-input-98-90dabc06524b>:7: RuntimeWarning: divide by zero encountered in log\n",
      "  score = p[i] * (np.log(p[i] / q[i]))\n",
      "<ipython-input-98-90dabc06524b>:7: RuntimeWarning: invalid value encountered in double_scalars\n",
      "  score = p[i] * (np.log(p[i] / q[i]))\n"
     ]
    },
    {
     "name": "stdout",
     "output_type": "stream",
     "text": [
      "vicprice\n"
     ]
    },
    {
     "data": {
      "image/png": "[encoded data removed]",
      "text/plain": [
       "<Figure size 576x288 with 2 Axes>"
      ]
     },
     "metadata": {
      "needs_background": "light"
     },
     "output_type": "display_data"
    }
   ],
   "source": [
    "plot_diff(0.8,0.9,1.0,3)"
   ]
  },
  {
   "cell_type": "code",
   "execution_count": 76,
   "metadata": {},
   "outputs": [
    {
     "name": "stderr",
     "output_type": "stream",
     "text": [
      "<ipython-input-49-90dabc06524b>:7: RuntimeWarning: divide by zero encountered in log\n",
      "  score = p[i] * (np.log(p[i] / q[i]))\n",
      "<ipython-input-49-90dabc06524b>:7: RuntimeWarning: invalid value encountered in double_scalars\n",
      "  score = p[i] * (np.log(p[i] / q[i]))\n"
     ]
    },
    {
     "name": "stdout",
     "output_type": "stream",
     "text": [
      "vicprice\n"
     ]
    },
    {
     "data": {
      "image/png": "[encoded data removed]",
      "text/plain": [
       "<Figure size 576x288 with 2 Axes>"
      ]
     },
     "metadata": {
      "needs_background": "light"
     },
     "output_type": "display_data"
    }
   ],
   "source": [
    "plot_diff(0.8,0.9,1.0,3)"
   ]
  },
  {
   "cell_type": "code",
   "execution_count": 77,
   "metadata": {
    "collapsed": true
   },
   "outputs": [
    {
     "name": "stderr",
     "output_type": "stream",
     "text": [
      "<ipython-input-49-90dabc06524b>:7: RuntimeWarning: divide by zero encountered in log\n",
      "  score = p[i] * (np.log(p[i] / q[i]))\n",
      "<ipython-input-49-90dabc06524b>:7: RuntimeWarning: invalid value encountered in double_scalars\n",
      "  score = p[i] * (np.log(p[i] / q[i]))\n"
     ]
    },
    {
     "name": "stdout",
     "output_type": "stream",
     "text": [
      "vicprice\n"
     ]
    },
    {
     "data": {
      "image/png": "[encoded data removed]",
      "text/plain": [
       "<Figure size 576x288 with 2 Axes>"
      ]
     },
     "metadata": {
      "needs_background": "light"
     },
     "output_type": "display_data"
    }
   ],
   "source": [
    "plot_diff(0.1,0.2,0.3,3)"
   ]
  },
  {
   "cell_type": "code",
   "execution_count": 78,
   "metadata": {},
   "outputs": [
    {
     "name": "stdout",
     "output_type": "stream",
     "text": [
      "0.0 0.2 0.4\n"
     ]
    },
    {
     "name": "stderr",
     "output_type": "stream",
     "text": [
      "<ipython-input-49-90dabc06524b>:7: RuntimeWarning: divide by zero encountered in log\n",
      "  score = p[i] * (np.log(p[i] / q[i]))\n",
      "<ipython-input-49-90dabc06524b>:7: RuntimeWarning: invalid value encountered in double_scalars\n",
      "  score = p[i] * (np.log(p[i] / q[i]))\n"
     ]
    },
    {
     "name": "stdout",
     "output_type": "stream",
     "text": [
      "0.2 0.4 0.6\n"
     ]
    },
    {
     "name": "stderr",
     "output_type": "stream",
     "text": [
      "<ipython-input-49-90dabc06524b>:7: RuntimeWarning: divide by zero encountered in log\n",
      "  score = p[i] * (np.log(p[i] / q[i]))\n",
      "<ipython-input-49-90dabc06524b>:7: RuntimeWarning: invalid value encountered in double_scalars\n",
      "  score = p[i] * (np.log(p[i] / q[i]))\n"
     ]
    },
    {
     "name": "stdout",
     "output_type": "stream",
     "text": [
      "0.4 0.6 0.8\n"
     ]
    },
    {
     "name": "stderr",
     "output_type": "stream",
     "text": [
      "<ipython-input-49-90dabc06524b>:7: RuntimeWarning: divide by zero encountered in log\n",
      "  score = p[i] * (np.log(p[i] / q[i]))\n",
      "<ipython-input-49-90dabc06524b>:7: RuntimeWarning: invalid value encountered in double_scalars\n",
      "  score = p[i] * (np.log(p[i] / q[i]))\n"
     ]
    },
    {
     "name": "stdout",
     "output_type": "stream",
     "text": [
      "0.6 0.8 1.0\n"
     ]
    },
    {
     "name": "stderr",
     "output_type": "stream",
     "text": [
      "<ipython-input-49-90dabc06524b>:7: RuntimeWarning: divide by zero encountered in log\n",
      "  score = p[i] * (np.log(p[i] / q[i]))\n",
      "<ipython-input-49-90dabc06524b>:7: RuntimeWarning: invalid value encountered in double_scalars\n",
      "  score = p[i] * (np.log(p[i] / q[i]))\n"
     ]
    }
   ],
   "source": [
    "score_list2 = setWindow(0.2);"
   ]
  },
  {
   "cell_type": "code",
   "execution_count": 79,
   "metadata": {},
   "outputs": [
    {
     "data": {
      "text/plain": [
       "array([[-0.     ,  0.95334,  0.1593 ,  2.57023,  2.57023,  2.5871 ],\n",
       "       [ 0.     ,  2.91618,  0.05896,  2.61421,  2.11153,  2.28349],\n",
       "       [ 0.     ,  1.01443,  0.01984,  3.47624,  0.11781,  0.32033],\n",
       "       [-0.     ,  1.13291,  0.09842,  0.92075,  0.24282,  0.1959 ]])"
      ]
     },
     "execution_count": 79,
     "metadata": {},
     "output_type": "execute_result"
    }
   ],
   "source": [
    "score_list2"
   ]
  },
  {
   "cell_type": "code",
   "execution_count": 80,
   "metadata": {},
   "outputs": [
    {
     "data": {
      "text/html": [
       "<div>\n",
       "<style scoped>\n",
       "    .dataframe tbody tr th:only-of-type {\n",
       "        vertical-align: middle;\n",
       "    }\n",
       "\n",
       "    .dataframe tbody tr th {\n",
       "        vertical-align: top;\n",
       "    }\n",
       "\n",
       "    .dataframe thead th {\n",
       "        text-align: right;\n",
       "    }\n",
       "</style>\n",
       "<table border=\"1\" class=\"dataframe\">\n",
       "  <thead>\n",
       "    <tr style=\"text-align: right;\">\n",
       "      <th></th>\n",
       "      <th>period</th>\n",
       "      <th>nswprice</th>\n",
       "      <th>nswdemand</th>\n",
       "      <th>vicprice</th>\n",
       "      <th>vicdemand</th>\n",
       "      <th>transfer</th>\n",
       "    </tr>\n",
       "  </thead>\n",
       "  <tbody>\n",
       "    <tr>\n",
       "      <th>0</th>\n",
       "      <td>-0.0</td>\n",
       "      <td>0.95334</td>\n",
       "      <td>0.15930</td>\n",
       "      <td>2.57023</td>\n",
       "      <td>2.57023</td>\n",
       "      <td>2.58710</td>\n",
       "    </tr>\n",
       "    <tr>\n",
       "      <th>1</th>\n",
       "      <td>0.0</td>\n",
       "      <td>2.91618</td>\n",
       "      <td>0.05896</td>\n",
       "      <td>2.61421</td>\n",
       "      <td>2.11153</td>\n",
       "      <td>2.28349</td>\n",
       "    </tr>\n",
       "    <tr>\n",
       "      <th>2</th>\n",
       "      <td>0.0</td>\n",
       "      <td>1.01443</td>\n",
       "      <td>0.01984</td>\n",
       "      <td>3.47624</td>\n",
       "      <td>0.11781</td>\n",
       "      <td>0.32033</td>\n",
       "    </tr>\n",
       "    <tr>\n",
       "      <th>3</th>\n",
       "      <td>-0.0</td>\n",
       "      <td>1.13291</td>\n",
       "      <td>0.09842</td>\n",
       "      <td>0.92075</td>\n",
       "      <td>0.24282</td>\n",
       "      <td>0.19590</td>\n",
       "    </tr>\n",
       "  </tbody>\n",
       "</table>\n",
       "</div>"
      ],
      "text/plain": [
       "   period  nswprice  nswdemand  vicprice  vicdemand  transfer\n",
       "0    -0.0   0.95334    0.15930   2.57023    2.57023   2.58710\n",
       "1     0.0   2.91618    0.05896   2.61421    2.11153   2.28349\n",
       "2     0.0   1.01443    0.01984   3.47624    0.11781   0.32033\n",
       "3    -0.0   1.13291    0.09842   0.92075    0.24282   0.19590"
      ]
     },
     "execution_count": 80,
     "metadata": {},
     "output_type": "execute_result"
    }
   ],
   "source": [
    "pd.DataFrame(score_list2, columns = x1.columns.tolist())"
   ]
  },
  {
   "cell_type": "code",
   "execution_count": 81,
   "metadata": {},
   "outputs": [
    {
     "name": "stderr",
     "output_type": "stream",
     "text": [
      "<ipython-input-49-90dabc06524b>:7: RuntimeWarning: divide by zero encountered in log\n",
      "  score = p[i] * (np.log(p[i] / q[i]))\n",
      "<ipython-input-49-90dabc06524b>:7: RuntimeWarning: invalid value encountered in double_scalars\n",
      "  score = p[i] * (np.log(p[i] / q[i]))\n"
     ]
    },
    {
     "name": "stdout",
     "output_type": "stream",
     "text": [
      "nswprice\n"
     ]
    },
    {
     "data": {
      "image/png": "[encoded data removed]",
      "text/plain": [
       "<Figure size 576x288 with 2 Axes>"
      ]
     },
     "metadata": {
      "needs_background": "light"
     },
     "output_type": "display_data"
    }
   ],
   "source": [
    "plot_diff(0.2,0.4,0.6,1)"
   ]
  },
  {
   "cell_type": "code",
   "execution_count": 82,
   "metadata": {},
   "outputs": [
    {
     "name": "stdout",
     "output_type": "stream",
     "text": [
      "0.0 0.05 0.1\n"
     ]
    },
    {
     "name": "stderr",
     "output_type": "stream",
     "text": [
      "<ipython-input-49-90dabc06524b>:7: RuntimeWarning: divide by zero encountered in log\n",
      "  score = p[i] * (np.log(p[i] / q[i]))\n",
      "<ipython-input-49-90dabc06524b>:7: RuntimeWarning: invalid value encountered in double_scalars\n",
      "  score = p[i] * (np.log(p[i] / q[i]))\n"
     ]
    },
    {
     "name": "stdout",
     "output_type": "stream",
     "text": [
      "0.05 0.1 0.15\n",
      "0.1 0.15 0.2\n"
     ]
    },
    {
     "name": "stderr",
     "output_type": "stream",
     "text": [
      "<ipython-input-49-90dabc06524b>:7: RuntimeWarning: divide by zero encountered in log\n",
      "  score = p[i] * (np.log(p[i] / q[i]))\n",
      "<ipython-input-49-90dabc06524b>:7: RuntimeWarning: invalid value encountered in double_scalars\n",
      "  score = p[i] * (np.log(p[i] / q[i]))\n"
     ]
    },
    {
     "name": "stdout",
     "output_type": "stream",
     "text": [
      "0.15 0.2 0.25\n"
     ]
    },
    {
     "name": "stderr",
     "output_type": "stream",
     "text": [
      "<ipython-input-49-90dabc06524b>:7: RuntimeWarning: divide by zero encountered in log\n",
      "  score = p[i] * (np.log(p[i] / q[i]))\n",
      "<ipython-input-49-90dabc06524b>:7: RuntimeWarning: invalid value encountered in double_scalars\n",
      "  score = p[i] * (np.log(p[i] / q[i]))\n"
     ]
    },
    {
     "name": "stdout",
     "output_type": "stream",
     "text": [
      "0.2 0.25 0.3\n",
      "0.25 0.3 0.35\n"
     ]
    },
    {
     "name": "stderr",
     "output_type": "stream",
     "text": [
      "<ipython-input-49-90dabc06524b>:7: RuntimeWarning: divide by zero encountered in log\n",
      "  score = p[i] * (np.log(p[i] / q[i]))\n",
      "<ipython-input-49-90dabc06524b>:7: RuntimeWarning: invalid value encountered in double_scalars\n",
      "  score = p[i] * (np.log(p[i] / q[i]))\n"
     ]
    },
    {
     "name": "stdout",
     "output_type": "stream",
     "text": [
      "0.3 0.35 0.4\n"
     ]
    },
    {
     "name": "stderr",
     "output_type": "stream",
     "text": [
      "<ipython-input-49-90dabc06524b>:7: RuntimeWarning: divide by zero encountered in log\n",
      "  score = p[i] * (np.log(p[i] / q[i]))\n",
      "<ipython-input-49-90dabc06524b>:7: RuntimeWarning: invalid value encountered in double_scalars\n",
      "  score = p[i] * (np.log(p[i] / q[i]))\n"
     ]
    },
    {
     "name": "stdout",
     "output_type": "stream",
     "text": [
      "0.35 0.4 0.45\n"
     ]
    },
    {
     "name": "stderr",
     "output_type": "stream",
     "text": [
      "<ipython-input-49-90dabc06524b>:7: RuntimeWarning: divide by zero encountered in log\n",
      "  score = p[i] * (np.log(p[i] / q[i]))\n",
      "<ipython-input-49-90dabc06524b>:7: RuntimeWarning: invalid value encountered in double_scalars\n",
      "  score = p[i] * (np.log(p[i] / q[i]))\n"
     ]
    },
    {
     "name": "stdout",
     "output_type": "stream",
     "text": [
      "0.4 0.45 0.5\n"
     ]
    },
    {
     "name": "stderr",
     "output_type": "stream",
     "text": [
      "<ipython-input-49-90dabc06524b>:7: RuntimeWarning: divide by zero encountered in log\n",
      "  score = p[i] * (np.log(p[i] / q[i]))\n",
      "<ipython-input-49-90dabc06524b>:7: RuntimeWarning: invalid value encountered in double_scalars\n",
      "  score = p[i] * (np.log(p[i] / q[i]))\n"
     ]
    },
    {
     "name": "stdout",
     "output_type": "stream",
     "text": [
      "0.45 0.5 0.55\n"
     ]
    },
    {
     "name": "stderr",
     "output_type": "stream",
     "text": [
      "<ipython-input-49-90dabc06524b>:7: RuntimeWarning: divide by zero encountered in log\n",
      "  score = p[i] * (np.log(p[i] / q[i]))\n",
      "<ipython-input-49-90dabc06524b>:7: RuntimeWarning: invalid value encountered in double_scalars\n",
      "  score = p[i] * (np.log(p[i] / q[i]))\n"
     ]
    },
    {
     "name": "stdout",
     "output_type": "stream",
     "text": [
      "0.5 0.55 0.6\n"
     ]
    },
    {
     "name": "stderr",
     "output_type": "stream",
     "text": [
      "<ipython-input-49-90dabc06524b>:7: RuntimeWarning: divide by zero encountered in log\n",
      "  score = p[i] * (np.log(p[i] / q[i]))\n",
      "<ipython-input-49-90dabc06524b>:7: RuntimeWarning: invalid value encountered in double_scalars\n",
      "  score = p[i] * (np.log(p[i] / q[i]))\n"
     ]
    },
    {
     "name": "stdout",
     "output_type": "stream",
     "text": [
      "0.55 0.6 0.65\n"
     ]
    },
    {
     "name": "stderr",
     "output_type": "stream",
     "text": [
      "<ipython-input-49-90dabc06524b>:7: RuntimeWarning: divide by zero encountered in log\n",
      "  score = p[i] * (np.log(p[i] / q[i]))\n",
      "<ipython-input-49-90dabc06524b>:7: RuntimeWarning: invalid value encountered in double_scalars\n",
      "  score = p[i] * (np.log(p[i] / q[i]))\n"
     ]
    },
    {
     "name": "stdout",
     "output_type": "stream",
     "text": [
      "0.6 0.65 0.7\n"
     ]
    },
    {
     "name": "stderr",
     "output_type": "stream",
     "text": [
      "<ipython-input-49-90dabc06524b>:7: RuntimeWarning: divide by zero encountered in log\n",
      "  score = p[i] * (np.log(p[i] / q[i]))\n",
      "<ipython-input-49-90dabc06524b>:7: RuntimeWarning: invalid value encountered in double_scalars\n",
      "  score = p[i] * (np.log(p[i] / q[i]))\n"
     ]
    },
    {
     "name": "stdout",
     "output_type": "stream",
     "text": [
      "0.65 0.7 0.75\n"
     ]
    },
    {
     "name": "stderr",
     "output_type": "stream",
     "text": [
      "<ipython-input-49-90dabc06524b>:7: RuntimeWarning: divide by zero encountered in log\n",
      "  score = p[i] * (np.log(p[i] / q[i]))\n",
      "<ipython-input-49-90dabc06524b>:7: RuntimeWarning: invalid value encountered in double_scalars\n",
      "  score = p[i] * (np.log(p[i] / q[i]))\n"
     ]
    },
    {
     "name": "stdout",
     "output_type": "stream",
     "text": [
      "0.7 0.75 0.8\n"
     ]
    },
    {
     "name": "stderr",
     "output_type": "stream",
     "text": [
      "<ipython-input-49-90dabc06524b>:7: RuntimeWarning: divide by zero encountered in log\n",
      "  score = p[i] * (np.log(p[i] / q[i]))\n",
      "<ipython-input-49-90dabc06524b>:7: RuntimeWarning: invalid value encountered in double_scalars\n",
      "  score = p[i] * (np.log(p[i] / q[i]))\n"
     ]
    },
    {
     "name": "stdout",
     "output_type": "stream",
     "text": [
      "0.75 0.8 0.85\n"
     ]
    },
    {
     "name": "stderr",
     "output_type": "stream",
     "text": [
      "<ipython-input-49-90dabc06524b>:7: RuntimeWarning: divide by zero encountered in log\n",
      "  score = p[i] * (np.log(p[i] / q[i]))\n",
      "<ipython-input-49-90dabc06524b>:7: RuntimeWarning: invalid value encountered in double_scalars\n",
      "  score = p[i] * (np.log(p[i] / q[i]))\n"
     ]
    },
    {
     "name": "stdout",
     "output_type": "stream",
     "text": [
      "0.8 0.85 0.9\n"
     ]
    },
    {
     "name": "stderr",
     "output_type": "stream",
     "text": [
      "<ipython-input-49-90dabc06524b>:7: RuntimeWarning: divide by zero encountered in log\n",
      "  score = p[i] * (np.log(p[i] / q[i]))\n",
      "<ipython-input-49-90dabc06524b>:7: RuntimeWarning: invalid value encountered in double_scalars\n",
      "  score = p[i] * (np.log(p[i] / q[i]))\n"
     ]
    },
    {
     "name": "stdout",
     "output_type": "stream",
     "text": [
      "0.85 0.9 0.95\n"
     ]
    },
    {
     "name": "stderr",
     "output_type": "stream",
     "text": [
      "<ipython-input-49-90dabc06524b>:7: RuntimeWarning: divide by zero encountered in log\n",
      "  score = p[i] * (np.log(p[i] / q[i]))\n",
      "<ipython-input-49-90dabc06524b>:7: RuntimeWarning: invalid value encountered in double_scalars\n",
      "  score = p[i] * (np.log(p[i] / q[i]))\n"
     ]
    },
    {
     "name": "stdout",
     "output_type": "stream",
     "text": [
      "0.9 0.95 1.0\n"
     ]
    },
    {
     "name": "stderr",
     "output_type": "stream",
     "text": [
      "<ipython-input-49-90dabc06524b>:7: RuntimeWarning: divide by zero encountered in log\n",
      "  score = p[i] * (np.log(p[i] / q[i]))\n",
      "<ipython-input-49-90dabc06524b>:7: RuntimeWarning: invalid value encountered in double_scalars\n",
      "  score = p[i] * (np.log(p[i] / q[i]))\n"
     ]
    }
   ],
   "source": [
    "score_list3 = setWindow(0.05)"
   ]
  },
  {
   "cell_type": "code",
   "execution_count": 83,
   "metadata": {},
   "outputs": [
    {
     "data": {
      "text/html": [
       "<div>\n",
       "<style scoped>\n",
       "    .dataframe tbody tr th:only-of-type {\n",
       "        vertical-align: middle;\n",
       "    }\n",
       "\n",
       "    .dataframe tbody tr th {\n",
       "        vertical-align: top;\n",
       "    }\n",
       "\n",
       "    .dataframe thead th {\n",
       "        text-align: right;\n",
       "    }\n",
       "</style>\n",
       "<table border=\"1\" class=\"dataframe\">\n",
       "  <thead>\n",
       "    <tr style=\"text-align: right;\">\n",
       "      <th></th>\n",
       "      <th>period</th>\n",
       "      <th>nswprice</th>\n",
       "      <th>nswdemand</th>\n",
       "      <th>vicprice</th>\n",
       "      <th>vicdemand</th>\n",
       "      <th>transfer</th>\n",
       "    </tr>\n",
       "  </thead>\n",
       "  <tbody>\n",
       "    <tr>\n",
       "      <th>0</th>\n",
       "      <td>0.0</td>\n",
       "      <td>0.36620</td>\n",
       "      <td>0.01518</td>\n",
       "      <td>0.00000</td>\n",
       "      <td>0.85277</td>\n",
       "      <td>0.84884</td>\n",
       "    </tr>\n",
       "    <tr>\n",
       "      <th>1</th>\n",
       "      <td>0.0</td>\n",
       "      <td>0.42476</td>\n",
       "      <td>0.24246</td>\n",
       "      <td>0.00000</td>\n",
       "      <td>0.89171</td>\n",
       "      <td>0.66371</td>\n",
       "    </tr>\n",
       "    <tr>\n",
       "      <th>2</th>\n",
       "      <td>0.0</td>\n",
       "      <td>5.76790</td>\n",
       "      <td>0.52583</td>\n",
       "      <td>0.00000</td>\n",
       "      <td>0.72220</td>\n",
       "      <td>0.67227</td>\n",
       "    </tr>\n",
       "    <tr>\n",
       "      <th>3</th>\n",
       "      <td>0.0</td>\n",
       "      <td>1.06139</td>\n",
       "      <td>0.05516</td>\n",
       "      <td>0.00000</td>\n",
       "      <td>1.01618</td>\n",
       "      <td>0.88348</td>\n",
       "    </tr>\n",
       "    <tr>\n",
       "      <th>4</th>\n",
       "      <td>-0.0</td>\n",
       "      <td>1.67891</td>\n",
       "      <td>0.09516</td>\n",
       "      <td>0.00000</td>\n",
       "      <td>1.85114</td>\n",
       "      <td>1.84379</td>\n",
       "    </tr>\n",
       "    <tr>\n",
       "      <th>5</th>\n",
       "      <td>0.0</td>\n",
       "      <td>1.01527</td>\n",
       "      <td>0.04384</td>\n",
       "      <td>0.00000</td>\n",
       "      <td>1.55532</td>\n",
       "      <td>1.71698</td>\n",
       "    </tr>\n",
       "    <tr>\n",
       "      <th>6</th>\n",
       "      <td>0.0</td>\n",
       "      <td>0.71475</td>\n",
       "      <td>0.14258</td>\n",
       "      <td>0.00000</td>\n",
       "      <td>1.91436</td>\n",
       "      <td>1.88990</td>\n",
       "    </tr>\n",
       "    <tr>\n",
       "      <th>7</th>\n",
       "      <td>0.0</td>\n",
       "      <td>0.38730</td>\n",
       "      <td>0.06919</td>\n",
       "      <td>0.45080</td>\n",
       "      <td>0.94507</td>\n",
       "      <td>2.68837</td>\n",
       "    </tr>\n",
       "    <tr>\n",
       "      <th>8</th>\n",
       "      <td>-0.0</td>\n",
       "      <td>0.99916</td>\n",
       "      <td>0.03755</td>\n",
       "      <td>0.38827</td>\n",
       "      <td>0.04643</td>\n",
       "      <td>0.54548</td>\n",
       "    </tr>\n",
       "    <tr>\n",
       "      <th>9</th>\n",
       "      <td>-0.0</td>\n",
       "      <td>2.04399</td>\n",
       "      <td>0.09589</td>\n",
       "      <td>1.25480</td>\n",
       "      <td>0.10377</td>\n",
       "      <td>0.16547</td>\n",
       "    </tr>\n",
       "    <tr>\n",
       "      <th>10</th>\n",
       "      <td>0.0</td>\n",
       "      <td>0.80108</td>\n",
       "      <td>0.10906</td>\n",
       "      <td>1.69165</td>\n",
       "      <td>0.71158</td>\n",
       "      <td>0.11688</td>\n",
       "    </tr>\n",
       "    <tr>\n",
       "      <th>11</th>\n",
       "      <td>0.0</td>\n",
       "      <td>2.51341</td>\n",
       "      <td>0.08959</td>\n",
       "      <td>5.55033</td>\n",
       "      <td>0.26011</td>\n",
       "      <td>0.09638</td>\n",
       "    </tr>\n",
       "    <tr>\n",
       "      <th>12</th>\n",
       "      <td>0.0</td>\n",
       "      <td>0.28710</td>\n",
       "      <td>0.03959</td>\n",
       "      <td>0.19422</td>\n",
       "      <td>0.14037</td>\n",
       "      <td>0.27704</td>\n",
       "    </tr>\n",
       "    <tr>\n",
       "      <th>13</th>\n",
       "      <td>-0.0</td>\n",
       "      <td>1.79372</td>\n",
       "      <td>0.05524</td>\n",
       "      <td>0.79644</td>\n",
       "      <td>0.20872</td>\n",
       "      <td>0.18273</td>\n",
       "    </tr>\n",
       "    <tr>\n",
       "      <th>14</th>\n",
       "      <td>-0.0</td>\n",
       "      <td>0.45125</td>\n",
       "      <td>0.05453</td>\n",
       "      <td>0.36575</td>\n",
       "      <td>0.36561</td>\n",
       "      <td>0.10926</td>\n",
       "    </tr>\n",
       "    <tr>\n",
       "      <th>15</th>\n",
       "      <td>0.0</td>\n",
       "      <td>0.74292</td>\n",
       "      <td>0.05191</td>\n",
       "      <td>1.05025</td>\n",
       "      <td>0.03901</td>\n",
       "      <td>0.03170</td>\n",
       "    </tr>\n",
       "    <tr>\n",
       "      <th>16</th>\n",
       "      <td>0.0</td>\n",
       "      <td>0.70110</td>\n",
       "      <td>0.02677</td>\n",
       "      <td>4.82797</td>\n",
       "      <td>0.07705</td>\n",
       "      <td>0.12984</td>\n",
       "    </tr>\n",
       "    <tr>\n",
       "      <th>17</th>\n",
       "      <td>0.0</td>\n",
       "      <td>0.61537</td>\n",
       "      <td>0.17649</td>\n",
       "      <td>0.48191</td>\n",
       "      <td>0.11688</td>\n",
       "      <td>0.12290</td>\n",
       "    </tr>\n",
       "    <tr>\n",
       "      <th>18</th>\n",
       "      <td>0.0</td>\n",
       "      <td>0.88282</td>\n",
       "      <td>0.29101</td>\n",
       "      <td>6.06344</td>\n",
       "      <td>0.23721</td>\n",
       "      <td>0.09564</td>\n",
       "    </tr>\n",
       "  </tbody>\n",
       "</table>\n",
       "</div>"
      ],
      "text/plain": [
       "    period  nswprice  nswdemand  vicprice  vicdemand  transfer\n",
       "0      0.0   0.36620    0.01518   0.00000    0.85277   0.84884\n",
       "1      0.0   0.42476    0.24246   0.00000    0.89171   0.66371\n",
       "2      0.0   5.76790    0.52583   0.00000    0.72220   0.67227\n",
       "3      0.0   1.06139    0.05516   0.00000    1.01618   0.88348\n",
       "4     -0.0   1.67891    0.09516   0.00000    1.85114   1.84379\n",
       "5      0.0   1.01527    0.04384   0.00000    1.55532   1.71698\n",
       "6      0.0   0.71475    0.14258   0.00000    1.91436   1.88990\n",
       "7      0.0   0.38730    0.06919   0.45080    0.94507   2.68837\n",
       "8     -0.0   0.99916    0.03755   0.38827    0.04643   0.54548\n",
       "9     -0.0   2.04399    0.09589   1.25480    0.10377   0.16547\n",
       "10     0.0   0.80108    0.10906   1.69165    0.71158   0.11688\n",
       "11     0.0   2.51341    0.08959   5.55033    0.26011   0.09638\n",
       "12     0.0   0.28710    0.03959   0.19422    0.14037   0.27704\n",
       "13    -0.0   1.79372    0.05524   0.79644    0.20872   0.18273\n",
       "14    -0.0   0.45125    0.05453   0.36575    0.36561   0.10926\n",
       "15     0.0   0.74292    0.05191   1.05025    0.03901   0.03170\n",
       "16     0.0   0.70110    0.02677   4.82797    0.07705   0.12984\n",
       "17     0.0   0.61537    0.17649   0.48191    0.11688   0.12290\n",
       "18     0.0   0.88282    0.29101   6.06344    0.23721   0.09564"
      ]
     },
     "execution_count": 83,
     "metadata": {},
     "output_type": "execute_result"
    }
   ],
   "source": [
    "pd.DataFrame(score_list3, columns = x1.columns.tolist())"
   ]
  },
  {
   "cell_type": "code",
   "execution_count": 84,
   "metadata": {},
   "outputs": [
    {
     "data": {
      "text/plain": [
       "array([2.13584667, 1.06501   , 0.77017167, 1.04343833, 1.13922833,\n",
       "       1.79672667, 0.49718   , 0.458205  , 0.939245  ])"
      ]
     },
     "execution_count": 84,
     "metadata": {},
     "output_type": "execute_result"
    }
   ],
   "source": [
    "np.average(score_list, axis=1)"
   ]
  },
  {
   "cell_type": "code",
   "execution_count": 85,
   "metadata": {},
   "outputs": [
    {
     "data": {
      "text/plain": [
       "Index(['date', 'period', 'nswprice', 'nswdemand', 'vicprice', 'vicdemand',\n",
       "       'transfer', 'target', 'day_b'1'', 'day_b'2'', 'day_b'3'', 'day_b'4'',\n",
       "       'day_b'5'', 'day_b'6'', 'day_b'7''],\n",
       "      dtype='object')"
      ]
     },
     "execution_count": 85,
     "metadata": {},
     "output_type": "execute_result"
    }
   ],
   "source": [
    "df.columns"
   ]
  },
  {
   "cell_type": "code",
   "execution_count": 86,
   "metadata": {},
   "outputs": [],
   "source": [
    "drop_list = ['target','date',\n",
    "             \"day_b'1'\",\"day_b'2'\", \"day_b'3'\",\"day_b'4'\",\"day_b'5'\",\"day_b'6'\",\"day_b'7'\"]"
   ]
  },
  {
   "cell_type": "code",
   "execution_count": 87,
   "metadata": {},
   "outputs": [],
   "source": [
    "# Helper func: extract info from original dataset by setting time windows\n",
    "def detect_shift(lower_bond, mid_bond, upper_bond,return_array=False):\n",
    "    date_array = df['date'].to_numpy()\n",
    "    before = df[(df['date']>np.nanquantile(date_array, lower_bond)) & (df['date']<= np.nanquantile(date_array, mid_bond))]\n",
    "    after = df[(df['date']>np.nanquantile(date_array, mid_bond)) & (df['date']<= np.nanquantile(date_array, upper_bond))]\n",
    "    \n",
    "    if len(before) != len(after):\n",
    "        min_len = min(len(before), len(after))\n",
    "        before = before[:min_len]\n",
    "        after = after[:min_len]\n",
    "    \n",
    "    X_before = before.drop(columns = drop_list)\n",
    "    X_after = after.drop(columns = drop_list)\n",
    "    \n",
    "    pca_99 = PCA(.999)\n",
    "    components = pca_99.fit_transform(X_before)\n",
    "    V = pca_99.components_\n",
    "    \n",
    "#     X_bef = X_before@V.T@V\n",
    "    X_projection = X_after@V.T@V\n",
    "#     print(X_before.shape)\n",
    "    \n",
    "    (nrow, ncol) = X_projection.shape\n",
    "    col_list = X_before.columns.tolist()\n",
    "    rv = []\n",
    "    for index, col in enumerate(col_list):\n",
    "        p = get_pdf(X_before.iloc[:,index].to_numpy())\n",
    "        q = get_pdf(X_projection.iloc[:,index].to_numpy())\n",
    "        score = get_change_score(p,q)\n",
    "#         print(score)\n",
    "        rv.append(score)\n",
    "#         print(get_change_score(X_before.iloc[:,index].to_numpy(),X_projection.iloc[:,index].to_numpy()))\n",
    "        \n",
    "    if return_array:\n",
    "        return X_before, X_projection\n",
    "    \n",
    "    return rv    \n",
    "#     return X_before, X_projection\n",
    "#     print(X_before[:,0].shape)\n",
    "#     print(X_projection[:][0].shape)\n",
    "    \n",
    "    "
   ]
  },
  {
   "cell_type": "code",
   "execution_count": 88,
   "metadata": {},
   "outputs": [
    {
     "data": {
      "text/plain": [
       "4512"
      ]
     },
     "execution_count": 88,
     "metadata": {},
     "output_type": "execute_result"
    }
   ],
   "source": [
    "len(df[(df['date']>np.nanquantile(date_array, 0.1)) & (df['date']<= np.nanquantile(date_array, 0.2))])"
   ]
  },
  {
   "cell_type": "code",
   "execution_count": 89,
   "metadata": {},
   "outputs": [
    {
     "name": "stderr",
     "output_type": "stream",
     "text": [
      "<ipython-input-49-90dabc06524b>:7: RuntimeWarning: divide by zero encountered in log\n",
      "  score = p[i] * (np.log(p[i] / q[i]))\n",
      "<ipython-input-49-90dabc06524b>:7: RuntimeWarning: invalid value encountered in double_scalars\n",
      "  score = p[i] * (np.log(p[i] / q[i]))\n"
     ]
    },
    {
     "data": {
      "text/plain": [
       "[-0.0, 2.11672, 0.04765, 8.00544, 0.20525, 0.4053]"
      ]
     },
     "execution_count": 89,
     "metadata": {},
     "output_type": "execute_result"
    }
   ],
   "source": [
    "detect_shift(0.5,0.6,0.7)"
   ]
  },
  {
   "cell_type": "code",
   "execution_count": 113,
   "metadata": {},
   "outputs": [],
   "source": [
    "def plot_diff(low_bond, mid_bond, upper_bond, col_n):\n",
    "    x1, x2 = detect_shift(low_bond, mid_bond, upper_bond, True)\n",
    "    col_list = x1.columns.tolist()\n",
    "    array1 = x1.iloc[:,col_n].to_numpy()\n",
    "    array2 = x2.iloc[:,col_n].to_numpy()\n",
    "    \n",
    "    X_1 = np.linspace(np.min(array1), np.max(array1), len(array1))\n",
    "    X_2 = np.linspace(np.min(array2), np.max(array2), len(array2))\n",
    "    pdf_x1 = get_pdf(array1)\n",
    "    pdf_x2 = get_pdf(array2)\n",
    "    \n",
    "    fig, axes = plt.subplots(1,2, figsize = (8,4))\n",
    "    axes[0].plot(X_1, pdf_x1)\n",
    "    axes[1].plot(X_2, pdf_x2)\n",
    "    print(col_list[col_n])\n",
    "    fig.suptitle(\"Compare %s column between date %1.2f, %1.2f and %1.2f, %1.2f\"%(col_list[col_n], low_bond, mid_bond, mid_bond, upper_bond), fontsize=16)\n",
    "    plt.title(\"Change score = 4.85526\")"
   ]
  },
  {
   "cell_type": "code",
   "execution_count": null,
   "metadata": {},
   "outputs": [],
   "source": []
  },
  {
   "cell_type": "markdown",
   "metadata": {},
   "source": [
    "### Probability Distribution"
   ]
  },
  {
   "cell_type": "code",
   "execution_count": 91,
   "metadata": {},
   "outputs": [],
   "source": [
    "# calculate the probability density function given an array\n",
    "def get_pdf(array):\n",
    "    hist_dist = scipy.stats.rv_histogram(np.histogram(array, bins='auto'))\n",
    "    X1 = np.linspace(np.min(array), np.max(array), len(array))\n",
    "    rvs = [hist_dist.pdf(x) for x in X1]\n",
    "    normed_pdf = rvs/sum(rvs)\n",
    "    \n",
    "    return normed_pdf"
   ]
  },
  {
   "cell_type": "code",
   "execution_count": 92,
   "metadata": {},
   "outputs": [],
   "source": [
    "array1 = x1.iloc[:,1].to_numpy()\n",
    "array2 = x2.iloc[:,1].to_numpy()"
   ]
  },
  {
   "cell_type": "code",
   "execution_count": 93,
   "metadata": {},
   "outputs": [],
   "source": [
    "import scipy.stats\n",
    "histogram_dist_1 = scipy.stats.rv_histogram(np.histogram(array1, bins='auto'))\n",
    "histogram_dist_2 = scipy.stats.rv_histogram(np.histogram(array2, bins='auto'))\n"
   ]
  },
  {
   "cell_type": "code",
   "execution_count": 94,
   "metadata": {},
   "outputs": [],
   "source": [
    "X1 = np.linspace(np.min(array1), np.max(array1), 100)\n",
    "X2 = np.linspace(np.min(array2), np.max(array2), 100)\n",
    "rvs_1 = [histogram_dist_1.pdf(x) for x in X1]\n",
    "rvs_2 = [histogram_dist_2.pdf(x) for x in X2]"
   ]
  },
  {
   "cell_type": "code",
   "execution_count": 95,
   "metadata": {},
   "outputs": [
    {
     "data": {
      "text/plain": [
       "1.000000000000001"
      ]
     },
     "execution_count": 95,
     "metadata": {},
     "output_type": "execute_result"
    }
   ],
   "source": [
    "# from sklearn import preprocessing\n",
    "# rvs_1_normed = preprocessing.normalize(np.array(rvs_1).reshape(1,-1))\n",
    "# rvs_1_normed.sum()\n",
    "rvs_1 = rvs_1/sum(rvs_1)\n",
    "rvs_2 = rvs_2/sum(rvs_2)\n",
    "sum(rvs_1)\n"
   ]
  },
  {
   "cell_type": "code",
   "execution_count": 96,
   "metadata": {},
   "outputs": [
    {
     "name": "stderr",
     "output_type": "stream",
     "text": [
      "<ipython-input-49-90dabc06524b>:7: RuntimeWarning: divide by zero encountered in log\n",
      "  score = p[i] * (np.log(p[i] / q[i]))\n",
      "<ipython-input-49-90dabc06524b>:7: RuntimeWarning: invalid value encountered in double_scalars\n",
      "  score = p[i] * (np.log(p[i] / q[i]))\n"
     ]
    },
    {
     "data": {
      "text/plain": [
       "8.19338"
      ]
     },
     "execution_count": 96,
     "metadata": {},
     "output_type": "execute_result"
    }
   ],
   "source": [
    "get_change_score(rvs_1, rvs_2)"
   ]
  },
  {
   "cell_type": "code",
   "execution_count": 97,
   "metadata": {},
   "outputs": [
    {
     "data": {
      "text/plain": [
       "array([0.00013137, 0.00013137, 0.        , 0.        , 0.        ,\n",
       "       0.        , 0.        , 0.00013137, 0.00013137, 0.        ,\n",
       "       0.        , 0.        , 0.        , 0.00013137, 0.00013137,\n",
       "       0.        , 0.        , 0.00262743, 0.05005255, 0.05005255,\n",
       "       0.07028376, 0.07028376, 0.03284288, 0.02758802, 0.02758802,\n",
       "       0.04506043, 0.0433526 , 0.0433526 , 0.02233316, 0.02233316,\n",
       "       0.03849185, 0.03166054, 0.03166054, 0.05281135, 0.05281135,\n",
       "       0.02141356, 0.03008408, 0.03008408, 0.02758802, 0.02942722,\n",
       "       0.02942722, 0.01103521, 0.01103521, 0.00709406, 0.00945875,\n",
       "       0.00945875, 0.01353127, 0.01353127, 0.00761955, 0.00197057,\n",
       "       0.00197057, 0.00118234, 0.00840778, 0.00840778, 0.00039411,\n",
       "       0.00039411, 0.        , 0.00052549, 0.00052549, 0.0027588 ,\n",
       "       0.0027588 , 0.00013137, 0.00039411, 0.00039411, 0.00131372,\n",
       "       0.00078823, 0.00078823, 0.        , 0.        , 0.        ,\n",
       "       0.        , 0.        , 0.        , 0.        , 0.        ,\n",
       "       0.        , 0.        , 0.        , 0.        , 0.        ,\n",
       "       0.        , 0.        , 0.        , 0.        , 0.        ,\n",
       "       0.        , 0.        , 0.        , 0.        , 0.        ,\n",
       "       0.        , 0.        , 0.        , 0.        , 0.        ,\n",
       "       0.        , 0.        , 0.        , 0.00013137, 0.        ])"
      ]
     },
     "execution_count": 97,
     "metadata": {},
     "output_type": "execute_result"
    }
   ],
   "source": [
    "rvs_2"
   ]
  },
  {
   "cell_type": "code",
   "execution_count": 98,
   "metadata": {},
   "outputs": [],
   "source": [
    "def kl_divergence_2(p, q):\n",
    "    total = 0\n",
    "    for i in range(len(p)):\n",
    "        if q[i] != 0:\n",
    "#             print(p[i])\n",
    "#             print(q[i])\n",
    "            score = p[i] * (np.log(p[i] / q[i]))\n",
    "#             print(score)\n",
    "        if not np.isnan(score):\n",
    "            total += score\n",
    "#             print(score)\n",
    "    return np.round(total,5)\n",
    "    \n",
    "#     return sum(p[i] * np.log(p[i]/q[i]) for i in range(len(p)) if q[i]!= 0)"
   ]
  },
  {
   "cell_type": "code",
   "execution_count": 99,
   "metadata": {},
   "outputs": [
    {
     "name": "stderr",
     "output_type": "stream",
     "text": [
      "<ipython-input-98-90dabc06524b>:7: RuntimeWarning: divide by zero encountered in log\n",
      "  score = p[i] * (np.log(p[i] / q[i]))\n",
      "<ipython-input-98-90dabc06524b>:7: RuntimeWarning: invalid value encountered in double_scalars\n",
      "  score = p[i] * (np.log(p[i] / q[i]))\n"
     ]
    },
    {
     "data": {
      "text/plain": [
       "8.19338"
      ]
     },
     "execution_count": 99,
     "metadata": {},
     "output_type": "execute_result"
    }
   ],
   "source": [
    "p = [0.10, 0.40, 0.50]\n",
    "q = [0.80, 0.15, 0.05]\n",
    "kl_divergence_2(rvs_1,rvs_2)"
   ]
  },
  {
   "cell_type": "code",
   "execution_count": 100,
   "metadata": {},
   "outputs": [
    {
     "data": {
      "text/plain": [
       "666"
      ]
     },
     "execution_count": 100,
     "metadata": {},
     "output_type": "execute_result"
    }
   ],
   "source": [
    "len(set(array1))"
   ]
  },
  {
   "cell_type": "code",
   "execution_count": 101,
   "metadata": {},
   "outputs": [
    {
     "data": {
      "text/plain": [
       "1.8116922268257993"
      ]
     },
     "execution_count": 101,
     "metadata": {},
     "output_type": "execute_result"
    }
   ],
   "source": [
    "histogram_dist_1.pdf(0.116909)"
   ]
  },
  {
   "cell_type": "code",
   "execution_count": 102,
   "metadata": {},
   "outputs": [
    {
     "data": {
      "text/plain": [
       "1.000000000000001"
      ]
     },
     "execution_count": 102,
     "metadata": {},
     "output_type": "execute_result"
    }
   ],
   "source": [
    "sum(rvs_1)"
   ]
  },
  {
   "cell_type": "code",
   "execution_count": 103,
   "metadata": {},
   "outputs": [
    {
     "data": {
      "text/plain": [
       "[<matplotlib.lines.Line2D at 0x7fbcac858790>]"
      ]
     },
     "execution_count": 103,
     "metadata": {},
     "output_type": "execute_result"
    },
    {
     "data": {
      "image/png": "[encoded data removed]",
      "text/plain": [
       "<Figure size 432x216 with 2 Axes>"
      ]
     },
     "metadata": {
      "needs_background": "light"
     },
     "output_type": "display_data"
    }
   ],
   "source": [
    "fig, axes = plt.subplots(1,2, figsize = (6,3))\n",
    "axes[0].plot(X1,rvs_1)\n",
    "axes[1].plot(X1, rvs_2)"
   ]
  },
  {
   "cell_type": "code",
   "execution_count": 104,
   "metadata": {},
   "outputs": [
    {
     "name": "stderr",
     "output_type": "stream",
     "text": [
      "<ipython-input-98-90dabc06524b>:7: RuntimeWarning: divide by zero encountered in log\n",
      "  score = p[i] * (np.log(p[i] / q[i]))\n",
      "<ipython-input-98-90dabc06524b>:7: RuntimeWarning: invalid value encountered in double_scalars\n",
      "  score = p[i] * (np.log(p[i] / q[i]))\n"
     ]
    },
    {
     "data": {
      "text/plain": [
       "[-0.0, 1.45559, 0.29282, 0.0, 2.31721, 2.32444]"
      ]
     },
     "execution_count": 104,
     "metadata": {},
     "output_type": "execute_result"
    }
   ],
   "source": [
    "# X_before and X_after\n",
    "detect_shift(0.1,0.2,0.3)"
   ]
  },
  {
   "cell_type": "code",
   "execution_count": 105,
   "metadata": {},
   "outputs": [
    {
     "name": "stderr",
     "output_type": "stream",
     "text": [
      "<ipython-input-98-90dabc06524b>:7: RuntimeWarning: divide by zero encountered in log\n",
      "  score = p[i] * (np.log(p[i] / q[i]))\n",
      "<ipython-input-98-90dabc06524b>:7: RuntimeWarning: invalid value encountered in double_scalars\n",
      "  score = p[i] * (np.log(p[i] / q[i]))\n"
     ]
    },
    {
     "data": {
      "text/plain": [
       "[-0.0, 1.45559, 0.29282, 0.0, 2.31721, 2.32444]"
      ]
     },
     "execution_count": 105,
     "metadata": {},
     "output_type": "execute_result"
    }
   ],
   "source": [
    "#X_before and X_projection\n",
    "detect_shift(0.1,0.2,0.3)"
   ]
  },
  {
   "cell_type": "code",
   "execution_count": 106,
   "metadata": {},
   "outputs": [
    {
     "data": {
      "text/plain": [
       "48      0.000000\n",
       "49      0.021277\n",
       "50      0.042553\n",
       "51      0.063830\n",
       "52      0.085106\n",
       "          ...   \n",
       "4555    0.914894\n",
       "4556    0.936170\n",
       "4557    0.957447\n",
       "4558    0.978723\n",
       "4559    1.000000\n",
       "Name: period, Length: 4512, dtype: float64"
      ]
     },
     "execution_count": 106,
     "metadata": {},
     "output_type": "execute_result"
    }
   ],
   "source": [
    "x1.iloc[:,0]"
   ]
  },
  {
   "cell_type": "code",
   "execution_count": 107,
   "metadata": {},
   "outputs": [
    {
     "data": {
      "text/plain": [
       "<matplotlib.collections.PathCollection at 0x7fbcaced4520>"
      ]
     },
     "execution_count": 107,
     "metadata": {},
     "output_type": "execute_result"
    },
    {
     "data": {
      "image/png": "[encoded data removed]",
      "text/plain": [
       "<Figure size 648x432 with 2 Axes>"
      ]
     },
     "metadata": {
      "needs_background": "light"
     },
     "output_type": "display_data"
    }
   ],
   "source": [
    "# PDF on X_before and X_after (without projection on PCA)\n",
    "fig, axes = plt.subplots(1,2, figsize = (9,6))\n",
    "axes[0].scatter(x1.iloc[:,1], norm.pdf(x1.iloc[:,1]))\n",
    "axes[1].scatter(x2.iloc[:,1], norm.pdf(x2.iloc[:,1]))"
   ]
  },
  {
   "cell_type": "code",
   "execution_count": 108,
   "metadata": {},
   "outputs": [
    {
     "data": {
      "text/plain": [
       "<matplotlib.collections.PathCollection at 0x7fbcad866880>"
      ]
     },
     "execution_count": 108,
     "metadata": {},
     "output_type": "execute_result"
    },
    {
     "data": {
      "image/png": "[encoded data removed]",
      "text/plain": [
       "<Figure size 648x432 with 2 Axes>"
      ]
     },
     "metadata": {
      "needs_background": "light"
     },
     "output_type": "display_data"
    }
   ],
   "source": [
    "# PDF on X_before and the projection of X_after on PCs of X_before\n",
    "fig, axes = plt.subplots(1,2, figsize = (9,6))\n",
    "axes[0].scatter(x1.iloc[:,4], norm.pdf(x1.iloc[:,4]))\n",
    "axes[1].scatter(x2.iloc[:,4], norm.pdf(x2.iloc[:,4]))"
   ]
  },
  {
   "cell_type": "code",
   "execution_count": 109,
   "metadata": {},
   "outputs": [
    {
     "data": {
      "text/plain": [
       "229553"
      ]
     },
     "execution_count": 109,
     "metadata": {},
     "output_type": "execute_result"
    }
   ],
   "source": [
    "int(2.29553203e+05)"
   ]
  },
  {
   "cell_type": "code",
   "execution_count": 110,
   "metadata": {},
   "outputs": [
    {
     "data": {
      "text/html": [
       "<div>\n",
       "<style scoped>\n",
       "    .dataframe tbody tr th:only-of-type {\n",
       "        vertical-align: middle;\n",
       "    }\n",
       "\n",
       "    .dataframe tbody tr th {\n",
       "        vertical-align: top;\n",
       "    }\n",
       "\n",
       "    .dataframe thead th {\n",
       "        text-align: right;\n",
       "    }\n",
       "</style>\n",
       "<table border=\"1\" class=\"dataframe\">\n",
       "  <thead>\n",
       "    <tr style=\"text-align: right;\">\n",
       "      <th></th>\n",
       "      <th>period</th>\n",
       "      <th>nswprice</th>\n",
       "      <th>nswdemand</th>\n",
       "      <th>vicprice</th>\n",
       "      <th>vicdemand</th>\n",
       "      <th>transfer</th>\n",
       "    </tr>\n",
       "  </thead>\n",
       "  <tbody>\n",
       "    <tr>\n",
       "      <th>48</th>\n",
       "      <td>0.000000</td>\n",
       "      <td>0.059235</td>\n",
       "      <td>0.442874</td>\n",
       "      <td>0.003467</td>\n",
       "      <td>0.422915</td>\n",
       "      <td>0.414912</td>\n",
       "    </tr>\n",
       "    <tr>\n",
       "      <th>49</th>\n",
       "      <td>0.021277</td>\n",
       "      <td>0.056443</td>\n",
       "      <td>0.410890</td>\n",
       "      <td>0.003467</td>\n",
       "      <td>0.422915</td>\n",
       "      <td>0.414912</td>\n",
       "    </tr>\n",
       "    <tr>\n",
       "      <th>50</th>\n",
       "      <td>0.042553</td>\n",
       "      <td>0.051489</td>\n",
       "      <td>0.378905</td>\n",
       "      <td>0.003467</td>\n",
       "      <td>0.422915</td>\n",
       "      <td>0.414912</td>\n",
       "    </tr>\n",
       "    <tr>\n",
       "      <th>51</th>\n",
       "      <td>0.063830</td>\n",
       "      <td>0.044374</td>\n",
       "      <td>0.316721</td>\n",
       "      <td>0.003467</td>\n",
       "      <td>0.422915</td>\n",
       "      <td>0.414912</td>\n",
       "    </tr>\n",
       "    <tr>\n",
       "      <th>52</th>\n",
       "      <td>0.085106</td>\n",
       "      <td>0.041041</td>\n",
       "      <td>0.257959</td>\n",
       "      <td>0.003467</td>\n",
       "      <td>0.422915</td>\n",
       "      <td>0.414912</td>\n",
       "    </tr>\n",
       "    <tr>\n",
       "      <th>...</th>\n",
       "      <td>...</td>\n",
       "      <td>...</td>\n",
       "      <td>...</td>\n",
       "      <td>...</td>\n",
       "      <td>...</td>\n",
       "      <td>...</td>\n",
       "    </tr>\n",
       "    <tr>\n",
       "      <th>4555</th>\n",
       "      <td>0.914894</td>\n",
       "      <td>0.088567</td>\n",
       "      <td>0.548051</td>\n",
       "      <td>0.003467</td>\n",
       "      <td>0.422915</td>\n",
       "      <td>0.414912</td>\n",
       "    </tr>\n",
       "    <tr>\n",
       "      <th>4556</th>\n",
       "      <td>0.936170</td>\n",
       "      <td>0.116909</td>\n",
       "      <td>0.584499</td>\n",
       "      <td>0.003467</td>\n",
       "      <td>0.422915</td>\n",
       "      <td>0.414912</td>\n",
       "    </tr>\n",
       "    <tr>\n",
       "      <th>4557</th>\n",
       "      <td>0.957447</td>\n",
       "      <td>0.097574</td>\n",
       "      <td>0.593573</td>\n",
       "      <td>0.003467</td>\n",
       "      <td>0.422915</td>\n",
       "      <td>0.414912</td>\n",
       "    </tr>\n",
       "    <tr>\n",
       "      <th>4558</th>\n",
       "      <td>0.978723</td>\n",
       "      <td>0.116909</td>\n",
       "      <td>0.602202</td>\n",
       "      <td>0.003467</td>\n",
       "      <td>0.422915</td>\n",
       "      <td>0.414912</td>\n",
       "    </tr>\n",
       "    <tr>\n",
       "      <th>4559</th>\n",
       "      <td>1.000000</td>\n",
       "      <td>0.117840</td>\n",
       "      <td>0.601755</td>\n",
       "      <td>0.003467</td>\n",
       "      <td>0.422915</td>\n",
       "      <td>0.414912</td>\n",
       "    </tr>\n",
       "  </tbody>\n",
       "</table>\n",
       "<p>4512 rows × 6 columns</p>\n",
       "</div>"
      ],
      "text/plain": [
       "        period  nswprice  nswdemand  vicprice  vicdemand  transfer\n",
       "48    0.000000  0.059235   0.442874  0.003467   0.422915  0.414912\n",
       "49    0.021277  0.056443   0.410890  0.003467   0.422915  0.414912\n",
       "50    0.042553  0.051489   0.378905  0.003467   0.422915  0.414912\n",
       "51    0.063830  0.044374   0.316721  0.003467   0.422915  0.414912\n",
       "52    0.085106  0.041041   0.257959  0.003467   0.422915  0.414912\n",
       "...        ...       ...        ...       ...        ...       ...\n",
       "4555  0.914894  0.088567   0.548051  0.003467   0.422915  0.414912\n",
       "4556  0.936170  0.116909   0.584499  0.003467   0.422915  0.414912\n",
       "4557  0.957447  0.097574   0.593573  0.003467   0.422915  0.414912\n",
       "4558  0.978723  0.116909   0.602202  0.003467   0.422915  0.414912\n",
       "4559  1.000000  0.117840   0.601755  0.003467   0.422915  0.414912\n",
       "\n",
       "[4512 rows x 6 columns]"
      ]
     },
     "execution_count": 110,
     "metadata": {},
     "output_type": "execute_result"
    }
   ],
   "source": [
    "x1"
   ]
  },
  {
   "cell_type": "code",
   "execution_count": null,
   "metadata": {},
   "outputs": [],
   "source": []
  }
 ],
 "metadata": {
  "kernelspec": {
   "display_name": "Python 3",
   "language": "python",
   "name": "python3"
  },
  "language_info": {
   "codemirror_mode": {
    "name": "ipython",
    "version": 3
   },
   "file_extension": ".py",
   "mimetype": "text/x-python",
   "name": "python",
   "nbconvert_exporter": "python",
   "pygments_lexer": "ipython3",
   "version": "3.8.8"
  },
  "vscode": {
   "interpreter": {
    "hash": "8690373d696fc6b9ca58c0b6b800c7f480b19699746d2dc5c9c0d4031bb8f2b8"
   }
  }
 },
 "nbformat": 4,
 "nbformat_minor": 2
}
